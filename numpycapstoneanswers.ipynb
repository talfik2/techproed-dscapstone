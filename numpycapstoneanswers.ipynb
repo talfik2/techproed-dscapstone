{
 "cells": [
  {
   "cell_type": "markdown",
   "id": "b0407aa7",
   "metadata": {},
   "source": [
    "# NUMPY CAPSTONE PROJECT - BLOOD DONATION\n",
    "![blood_donation.png](blood_donation.png)\n",
    "<p>Blood transfusion saves lives - from replacing lost blood during major surgery or a serious injury to treating various illnesses and blood disorders. Ensuring that there's enough blood in supply whenever needed is a serious challenge for the health professionals. According to <a href=\"https://www.webmd.com/a-to-z-guides/blood-transfusion-what-to-know#1\">WebMD</a>, \"about 5 million Americans need a blood transfusion every year\".</p>\n",
    "<p>Our dataset is from a mobile blood donation vehicle in Taiwan.</p>\n",
    "<p>The data is stored in <code>datasets/transfusion.data</code> and it is structured according to RFMTC marketing model (a variation of RFM). \n",
    "<p>In this project, you are going to inspect the data using Numpy.</p>\n"
   ]
  },
  {
   "cell_type": "markdown",
   "id": "b09902e0",
   "metadata": {},
   "source": [
    "#### IMPORTING LIBRARIES AND DATA\n",
    "\n",
    "* Import `numpy` as np and genfromtxt as follows: `from numpy import genfromtxt`\n",
    "\n",
    "* Call the data by using gentxt as follows: `gentxt(\"YourDirectory\", delimiter = \",\"`"
   ]
  },
  {
   "cell_type": "code",
   "execution_count": 7,
   "id": "57b5bc7b",
   "metadata": {
    "scrolled": true
   },
   "outputs": [
    {
     "data": {
      "text/plain": [
       "array([[     nan,      nan,      nan,      nan,      nan],\n",
       "       [2.00e+00, 5.00e+01, 1.25e+04, 9.80e+01, 1.00e+00],\n",
       "       [0.00e+00, 1.30e+01, 3.25e+03, 2.80e+01, 1.00e+00],\n",
       "       ...,\n",
       "       [2.30e+01, 3.00e+00, 7.50e+02, 6.20e+01, 0.00e+00],\n",
       "       [3.90e+01, 1.00e+00, 2.50e+02, 3.90e+01, 0.00e+00],\n",
       "       [7.20e+01, 1.00e+00, 2.50e+02, 7.20e+01, 0.00e+00]])"
      ]
     },
     "execution_count": 7,
     "metadata": {},
     "output_type": "execute_result"
    }
   ],
   "source": [
    "import numpy as np\n",
    "from numpy import genfromtxt\n",
    "my_data = genfromtxt(\"C:\\\\Users\\\\talfi\\\\python\\\\ML\\\\medtoureasy\\\\Give_Life_Predict_Blood_Donations\\\\datasets\\\\transfusion.data\",\n",
    "                    delimiter = \",\")\n",
    "my_data"
   ]
  },
  {
   "cell_type": "markdown",
   "id": "8a24822b",
   "metadata": {},
   "source": [
    "* nan values are our column names. Since numpy doesn't accept string values as input, they displayed as `nan`"
   ]
  },
  {
   "cell_type": "markdown",
   "id": "d24c0ff8",
   "metadata": {},
   "source": [
    "* Inspect our data's type by `my_data`"
   ]
  },
  {
   "cell_type": "code",
   "execution_count": 8,
   "id": "4bf52639",
   "metadata": {
    "scrolled": true
   },
   "outputs": [
    {
     "data": {
      "text/plain": [
       "numpy.ndarray"
      ]
     },
     "execution_count": 8,
     "metadata": {},
     "output_type": "execute_result"
    }
   ],
   "source": [
    "type(my_data)"
   ]
  },
  {
   "cell_type": "markdown",
   "id": "5802c0b8",
   "metadata": {},
   "source": [
    "* Use `ndim` to see how many dimensions data has."
   ]
  },
  {
   "cell_type": "code",
   "execution_count": 9,
   "id": "e9139261",
   "metadata": {
    "scrolled": true
   },
   "outputs": [
    {
     "data": {
      "text/plain": [
       "2"
      ]
     },
     "execution_count": 9,
     "metadata": {},
     "output_type": "execute_result"
    }
   ],
   "source": [
    "my_data.ndim"
   ]
  },
  {
   "cell_type": "markdown",
   "id": "5111a595",
   "metadata": {},
   "source": [
    "* Return the first row our data."
   ]
  },
  {
   "cell_type": "code",
   "execution_count": 10,
   "id": "2c7e8649",
   "metadata": {},
   "outputs": [
    {
     "data": {
      "text/plain": [
       "array([nan, nan, nan, nan, nan])"
      ]
     },
     "execution_count": 10,
     "metadata": {},
     "output_type": "execute_result"
    }
   ],
   "source": [
    "my_data[0]"
   ]
  },
  {
   "cell_type": "markdown",
   "id": "69f810b6",
   "metadata": {},
   "source": [
    "* First row contains `nan` values. Delete `nan` values by `np.delete()`\n",
    "* Note: `nan` values are located in `0,0`"
   ]
  },
  {
   "cell_type": "code",
   "execution_count": 13,
   "id": "a8260d6e",
   "metadata": {
    "scrolled": true
   },
   "outputs": [],
   "source": [
    "my_data = np.delete(my_data, 0, 0)"
   ]
  },
  {
   "cell_type": "markdown",
   "id": "8cabc3ce",
   "metadata": {},
   "source": [
    "* Return `my_data` to check whether you removed `nan` values or not."
   ]
  },
  {
   "cell_type": "code",
   "execution_count": 14,
   "id": "ce1f33fb",
   "metadata": {
    "scrolled": false
   },
   "outputs": [
    {
     "data": {
      "text/plain": [
       "array([[2.00e+00, 5.00e+01, 1.25e+04, 9.80e+01, 1.00e+00],\n",
       "       [0.00e+00, 1.30e+01, 3.25e+03, 2.80e+01, 1.00e+00],\n",
       "       [1.00e+00, 1.60e+01, 4.00e+03, 3.50e+01, 1.00e+00],\n",
       "       ...,\n",
       "       [2.30e+01, 3.00e+00, 7.50e+02, 6.20e+01, 0.00e+00],\n",
       "       [3.90e+01, 1.00e+00, 2.50e+02, 3.90e+01, 0.00e+00],\n",
       "       [7.20e+01, 1.00e+00, 2.50e+02, 7.20e+01, 0.00e+00]])"
      ]
     },
     "execution_count": 14,
     "metadata": {},
     "output_type": "execute_result"
    }
   ],
   "source": [
    "my_data"
   ]
  },
  {
   "cell_type": "markdown",
   "id": "a3a93f13",
   "metadata": {},
   "source": [
    "* To see the dimensions of the data, use `shape`"
   ]
  },
  {
   "cell_type": "code",
   "execution_count": 15,
   "id": "691c4f96",
   "metadata": {},
   "outputs": [
    {
     "data": {
      "text/plain": [
       "(748, 5)"
      ]
     },
     "execution_count": 15,
     "metadata": {},
     "output_type": "execute_result"
    }
   ],
   "source": [
    "my_data.shape"
   ]
  },
  {
   "cell_type": "markdown",
   "id": "2b2e6425",
   "metadata": {},
   "source": [
    "* To see how many unit(eleman) you have on your data, use `size`"
   ]
  },
  {
   "cell_type": "code",
   "execution_count": 14,
   "id": "fe7dc31f",
   "metadata": {},
   "outputs": [
    {
     "data": {
      "text/plain": [
       "3745"
      ]
     },
     "execution_count": 14,
     "metadata": {},
     "output_type": "execute_result"
    }
   ],
   "source": [
    "my_data.size"
   ]
  },
  {
   "cell_type": "markdown",
   "id": "740cb1a0",
   "metadata": {},
   "source": [
    "* To see the data type inside `my_data`, use `dtype`"
   ]
  },
  {
   "cell_type": "code",
   "execution_count": 15,
   "id": "1f7c54f5",
   "metadata": {},
   "outputs": [
    {
     "data": {
      "text/plain": [
       "dtype('float64')"
      ]
     },
     "execution_count": 15,
     "metadata": {},
     "output_type": "execute_result"
    }
   ],
   "source": [
    "my_data.dtype"
   ]
  },
  {
   "cell_type": "markdown",
   "id": "5a3b05ca",
   "metadata": {},
   "source": [
    "* To see the size of the each unit(eleman), use `itemsize`"
   ]
  },
  {
   "cell_type": "code",
   "execution_count": 16,
   "id": "6a294f1e",
   "metadata": {},
   "outputs": [
    {
     "data": {
      "text/plain": [
       "8"
      ]
     },
     "execution_count": 16,
     "metadata": {},
     "output_type": "execute_result"
    }
   ],
   "source": [
    "my_data.itemsize"
   ]
  },
  {
   "cell_type": "markdown",
   "id": "83d5336c",
   "metadata": {},
   "source": [
    "* Create a matrix that has 2 rows and 5 columns and contains 0 by `np.zeros`. Name it as `sifir`"
   ]
  },
  {
   "cell_type": "code",
   "execution_count": 16,
   "id": "f0e30c58",
   "metadata": {},
   "outputs": [
    {
     "data": {
      "text/plain": [
       "array([[0., 0., 0., 0., 0.],\n",
       "       [0., 0., 0., 0., 0.]])"
      ]
     },
     "execution_count": 16,
     "metadata": {},
     "output_type": "execute_result"
    }
   ],
   "source": [
    "sifir = np.zeros((2,5))\n",
    "sifir"
   ]
  },
  {
   "cell_type": "markdown",
   "id": "118a2676",
   "metadata": {},
   "source": [
    "* Create a matrix that has 2 rows and 5 columns and contains 1 by `np.ones`. Name it as `bir`"
   ]
  },
  {
   "cell_type": "code",
   "execution_count": 17,
   "id": "0c496d20",
   "metadata": {},
   "outputs": [
    {
     "data": {
      "text/plain": [
       "array([[1., 1., 1., 1., 1.],\n",
       "       [1., 1., 1., 1., 1.]])"
      ]
     },
     "execution_count": 17,
     "metadata": {},
     "output_type": "execute_result"
    }
   ],
   "source": [
    "bir = np.ones((2,5))\n",
    "bir"
   ]
  },
  {
   "cell_type": "markdown",
   "id": "65aa4fe6",
   "metadata": {},
   "source": [
    "* Create a matrix that has 2 rows and 5 columns and contains 38 by `np.full`. Name it as `otuzsekiz`"
   ]
  },
  {
   "cell_type": "code",
   "execution_count": 18,
   "id": "a4eab45e",
   "metadata": {},
   "outputs": [
    {
     "data": {
      "text/plain": [
       "array([[38, 38, 38, 38, 38],\n",
       "       [38, 38, 38, 38, 38]])"
      ]
     },
     "execution_count": 18,
     "metadata": {},
     "output_type": "execute_result"
    }
   ],
   "source": [
    "otuzsekiz = np.full((2,5),38)\n",
    "otuzsekiz"
   ]
  },
  {
   "cell_type": "markdown",
   "id": "a8f540f6",
   "metadata": {},
   "source": [
    "* Create an eye matrix that has 5 rows and 5 columns by `np.eye`. Name it as `eye`"
   ]
  },
  {
   "cell_type": "code",
   "execution_count": 19,
   "id": "f502046e",
   "metadata": {},
   "outputs": [
    {
     "data": {
      "text/plain": [
       "array([[1., 0., 0., 0., 0.],\n",
       "       [0., 1., 0., 0., 0.],\n",
       "       [0., 0., 1., 0., 0.],\n",
       "       [0., 0., 0., 1., 0.],\n",
       "       [0., 0., 0., 0., 1.]])"
      ]
     },
     "execution_count": 19,
     "metadata": {},
     "output_type": "execute_result"
    }
   ],
   "source": [
    "eye = np.eye(5)\n",
    "eye"
   ]
  },
  {
   "cell_type": "markdown",
   "id": "07333830",
   "metadata": {},
   "source": [
    "* Create a matrix that has 2 rows and 5 columns and contains random values between 0 and 1 by `np.random.random`. Name it as `random`"
   ]
  },
  {
   "cell_type": "code",
   "execution_count": 20,
   "id": "fbdcaf17",
   "metadata": {},
   "outputs": [
    {
     "data": {
      "text/plain": [
       "array([[0.89504555, 0.12425089, 0.75620379, 0.96716308, 0.25885547],\n",
       "       [0.6720104 , 0.07650155, 0.6660818 , 0.40648032, 0.33879406]])"
      ]
     },
     "execution_count": 20,
     "metadata": {},
     "output_type": "execute_result"
    }
   ],
   "source": [
    "random = np.random.random((2,5))\n",
    "random"
   ]
  },
  {
   "cell_type": "markdown",
   "id": "d47846c7",
   "metadata": {},
   "source": [
    "* Create a matrix that has 2 rows and 5 columns(use `reshape` for that) and contains values increases 1 at a time, and between 1 and 10 by `np.linspace`. Name it as `linsp`"
   ]
  },
  {
   "cell_type": "code",
   "execution_count": 23,
   "id": "2f9cadd7",
   "metadata": {},
   "outputs": [
    {
     "data": {
      "text/plain": [
       "array([[ 1.,  2.,  3.,  4.,  5.],\n",
       "       [ 6.,  7.,  8.,  9., 10.]])"
      ]
     },
     "execution_count": 23,
     "metadata": {},
     "output_type": "execute_result"
    }
   ],
   "source": [
    "linsp = np.linspace(1,10,10).reshape((2,5))\n",
    "linsp"
   ]
  },
  {
   "cell_type": "markdown",
   "id": "f02a0298",
   "metadata": {},
   "source": [
    "* Extract `linsp` with `np.sqrt` and name the result as `linsp`"
   ]
  },
  {
   "cell_type": "code",
   "execution_count": 29,
   "id": "dc3d3d45",
   "metadata": {},
   "outputs": [
    {
     "data": {
      "text/plain": [
       "array([[1.        , 1.41421356, 1.73205081, 2.        , 2.23606798],\n",
       "       [2.44948974, 2.64575131, 2.82842712, 3.        , 3.16227766]])"
      ]
     },
     "execution_count": 29,
     "metadata": {},
     "output_type": "execute_result"
    }
   ],
   "source": [
    "linsp = np.sqrt(linsp)\n",
    "linsp"
   ]
  },
  {
   "cell_type": "markdown",
   "id": "f9b3b187",
   "metadata": {},
   "source": [
    "* exponentiate `random` and name the result as `random`"
   ]
  },
  {
   "cell_type": "code",
   "execution_count": 30,
   "id": "17b18cbf",
   "metadata": {},
   "outputs": [
    {
     "data": {
      "text/plain": [
       "array([[0.80110654, 0.01543828, 0.57184418, 0.93540443, 0.06700615],\n",
       "       [0.45159798, 0.00585249, 0.44366496, 0.16522625, 0.11478142]])"
      ]
     },
     "execution_count": 30,
     "metadata": {},
     "output_type": "execute_result"
    }
   ],
   "source": [
    "random = random**2\n",
    "random"
   ]
  },
  {
   "cell_type": "markdown",
   "id": "69845400",
   "metadata": {},
   "source": [
    "* Sum `linsp` and `random` and name it as `toplam`"
   ]
  },
  {
   "cell_type": "code",
   "execution_count": 36,
   "id": "435e7641",
   "metadata": {
    "scrolled": true
   },
   "outputs": [
    {
     "data": {
      "text/plain": [
       "array([[1.80110654, 1.42965184, 2.30389498, 2.93540443, 2.30307413],\n",
       "       [2.90108772, 2.6516038 , 3.27209208, 3.16522625, 3.27705908]])"
      ]
     },
     "execution_count": 36,
     "metadata": {},
     "output_type": "execute_result"
    }
   ],
   "source": [
    "toplam = linsp + random\n",
    "toplam"
   ]
  },
  {
   "cell_type": "markdown",
   "id": "3c7a3ca0",
   "metadata": {},
   "source": [
    "* Divide `bir` and `sifir` and name it as `bolme`\n",
    "* If you receive and warning or error, briefly explain why"
   ]
  },
  {
   "cell_type": "code",
   "execution_count": 32,
   "id": "e53d16e2",
   "metadata": {},
   "outputs": [
    {
     "name": "stderr",
     "output_type": "stream",
     "text": [
      "<ipython-input-32-1db3caafe4ea>:1: RuntimeWarning: divide by zero encountered in true_divide\n",
      "  bolme = bir / sifir\n"
     ]
    }
   ],
   "source": [
    "bolme1= bir / sifir\n",
    "bolme1"
   ]
  },
  {
   "cell_type": "markdown",
   "id": "ef58cd6c",
   "metadata": {},
   "source": [
    "* There is a runtime warning since values cannot be divided by 0.."
   ]
  },
  {
   "cell_type": "markdown",
   "id": "c7177bb3",
   "metadata": {},
   "source": [
    "* Subtract `bir` and `sifir` and name it as `cikarma`"
   ]
  },
  {
   "cell_type": "code",
   "execution_count": 25,
   "id": "baaea147",
   "metadata": {},
   "outputs": [
    {
     "data": {
      "text/plain": [
       "array([[1., 1., 1., 1., 1.],\n",
       "       [1., 1., 1., 1., 1.]])"
      ]
     },
     "execution_count": 25,
     "metadata": {},
     "output_type": "execute_result"
    }
   ],
   "source": [
    "cikarma = bir - sifir\n",
    "cikarma"
   ]
  },
  {
   "cell_type": "markdown",
   "id": "efd67ae8",
   "metadata": {},
   "source": [
    "* divide  `cikarma` and `toplam`. Then, name it as `bolme`"
   ]
  },
  {
   "cell_type": "code",
   "execution_count": 37,
   "id": "000d1017",
   "metadata": {},
   "outputs": [
    {
     "data": {
      "text/plain": [
       "array([[0.55521424, 0.699471  , 0.43404756, 0.34066856, 0.43420226],\n",
       "       [0.3446983 , 0.37713025, 0.30561487, 0.31593318, 0.30515165]])"
      ]
     },
     "execution_count": 37,
     "metadata": {},
     "output_type": "execute_result"
    }
   ],
   "source": [
    "bolme = cikarma / toplam\n",
    "bolme"
   ]
  },
  {
   "cell_type": "markdown",
   "id": "c83bcaa7",
   "metadata": {},
   "source": [
    "* Multiply `toplam` and `bolme` by element basis and name it as `ecarpma`"
   ]
  },
  {
   "cell_type": "code",
   "execution_count": 38,
   "id": "1b2db3ca",
   "metadata": {},
   "outputs": [
    {
     "data": {
      "text/plain": [
       "array([[1., 1., 1., 1., 1.],\n",
       "       [1., 1., 1., 1., 1.]])"
      ]
     },
     "execution_count": 38,
     "metadata": {},
     "output_type": "execute_result"
    }
   ],
   "source": [
    "ecarpma = toplam * bolme \n",
    "ecarpma"
   ]
  },
  {
   "cell_type": "markdown",
   "id": "436ec366",
   "metadata": {},
   "source": [
    "* Multiply `ecarpma` and `eye` by matrix basis and name it as `mcarpma`"
   ]
  },
  {
   "cell_type": "code",
   "execution_count": 41,
   "id": "560fd03f",
   "metadata": {},
   "outputs": [
    {
     "data": {
      "text/plain": [
       "array([[1., 1., 1., 1., 1.],\n",
       "       [1., 1., 1., 1., 1.]])"
      ]
     },
     "execution_count": 41,
     "metadata": {},
     "output_type": "execute_result"
    }
   ],
   "source": [
    "mcarpma = ecarpma @ eye\n",
    "mcarpma"
   ]
  },
  {
   "cell_type": "markdown",
   "id": "4790c4d9",
   "metadata": {},
   "source": [
    "* Create matrix `a` that has following values:\n",
    "\n",
    "`[[ 1 2 3 4 5]\n",
    "  [ 6 7 8 9 10]]`"
   ]
  },
  {
   "cell_type": "code",
   "execution_count": 46,
   "id": "bc527f04",
   "metadata": {},
   "outputs": [
    {
     "data": {
      "text/plain": [
       "array([[ 1,  2,  3,  4,  5],\n",
       "       [ 6,  7,  8,  9, 10]])"
      ]
     },
     "execution_count": 46,
     "metadata": {},
     "output_type": "execute_result"
    }
   ],
   "source": [
    "a = np.array([[1, 2, 3, 4, 5], [6, 7, 8, 9, 10]])\n",
    "a"
   ]
  },
  {
   "cell_type": "markdown",
   "id": "3448319c",
   "metadata": {},
   "source": [
    "* Return the **boolean values** result of the values that are more than 3"
   ]
  },
  {
   "cell_type": "code",
   "execution_count": 47,
   "id": "eb74b930",
   "metadata": {},
   "outputs": [
    {
     "data": {
      "text/plain": [
       "array([[False, False, False,  True,  True],\n",
       "       [ True,  True,  True,  True,  True]])"
      ]
     },
     "execution_count": 47,
     "metadata": {},
     "output_type": "execute_result"
    }
   ],
   "source": [
    "a>3"
   ]
  },
  {
   "cell_type": "markdown",
   "id": "fd7289b6",
   "metadata": {},
   "source": [
    "* Return the values that are more than 3"
   ]
  },
  {
   "cell_type": "code",
   "execution_count": 48,
   "id": "263b61c9",
   "metadata": {},
   "outputs": [
    {
     "data": {
      "text/plain": [
       "array([ 4,  5,  6,  7,  8,  9, 10])"
      ]
     },
     "execution_count": 48,
     "metadata": {},
     "output_type": "execute_result"
    }
   ],
   "source": [
    "a[a>3]"
   ]
  },
  {
   "cell_type": "markdown",
   "id": "efb4503c",
   "metadata": {},
   "source": [
    "* Set the values that are more than 3 to 0 and name the result as `a`"
   ]
  },
  {
   "cell_type": "code",
   "execution_count": 50,
   "id": "b5a2e6ef",
   "metadata": {},
   "outputs": [
    {
     "data": {
      "text/plain": [
       "array([[1, 2, 3, 0, 0],\n",
       "       [0, 0, 0, 0, 0]])"
      ]
     },
     "execution_count": 50,
     "metadata": {},
     "output_type": "execute_result"
    }
   ],
   "source": [
    "a[a>3] = 0\n",
    "a"
   ]
  },
  {
   "cell_type": "markdown",
   "id": "c2481ebf",
   "metadata": {},
   "source": [
    "* Join `a` and `mcarpma ` by using stack functions(`axis=1`) and name it as `stc`"
   ]
  },
  {
   "cell_type": "code",
   "execution_count": 52,
   "id": "57de11a6",
   "metadata": {},
   "outputs": [
    {
     "data": {
      "text/plain": [
       "array([[[1., 2., 3., 0., 0.],\n",
       "        [1., 1., 1., 1., 1.]],\n",
       "\n",
       "       [[0., 0., 0., 0., 0.],\n",
       "        [1., 1., 1., 1., 1.]]])"
      ]
     },
     "execution_count": 52,
     "metadata": {},
     "output_type": "execute_result"
    }
   ],
   "source": [
    "stc = np.stack((a, mcarpma), axis=1)\n",
    "stc"
   ]
  },
  {
   "cell_type": "markdown",
   "id": "f15c1359",
   "metadata": {},
   "source": [
    "* Take the 1'st and 3'rd rows from `stc`, assign them to a new matrix.Name this new matrix as `guncel`"
   ]
  },
  {
   "cell_type": "code",
   "execution_count": 62,
   "id": "98f80606",
   "metadata": {
    "scrolled": true
   },
   "outputs": [
    {
     "data": {
      "text/plain": [
       "array([[[1., 2., 3., 0., 0.]],\n",
       "\n",
       "       [[0., 0., 0., 0., 0.]]])"
      ]
     },
     "execution_count": 62,
     "metadata": {},
     "output_type": "execute_result"
    }
   ],
   "source": [
    "guncel = stc[:, 0:1]\n",
    "guncel"
   ]
  },
  {
   "cell_type": "markdown",
   "id": "2ca41362",
   "metadata": {},
   "source": [
    "* Make guncel 2 dimensional array."
   ]
  },
  {
   "cell_type": "code",
   "execution_count": 73,
   "id": "3c4a0dd8",
   "metadata": {},
   "outputs": [
    {
     "data": {
      "text/plain": [
       "2"
      ]
     },
     "execution_count": 73,
     "metadata": {},
     "output_type": "execute_result"
    }
   ],
   "source": [
    "guncel = guncel.reshape(2,5)\n",
    "guncel.ndim"
   ]
  },
  {
   "cell_type": "markdown",
   "id": "00256a54",
   "metadata": {},
   "source": [
    "* Do you remember the `my_data` that we defined above?\n",
    "* Join `my_data` with `guncel` by using `concatenate` method vertically(alt alta). Name the result as `data`"
   ]
  },
  {
   "cell_type": "code",
   "execution_count": 74,
   "id": "343efd1f",
   "metadata": {},
   "outputs": [
    {
     "data": {
      "text/plain": [
       "array([[2.00e+00, 5.00e+01, 1.25e+04, 9.80e+01, 1.00e+00],\n",
       "       [0.00e+00, 1.30e+01, 3.25e+03, 2.80e+01, 1.00e+00],\n",
       "       [1.00e+00, 1.60e+01, 4.00e+03, 3.50e+01, 1.00e+00],\n",
       "       ...,\n",
       "       [7.20e+01, 1.00e+00, 2.50e+02, 7.20e+01, 0.00e+00],\n",
       "       [1.00e+00, 2.00e+00, 3.00e+00, 0.00e+00, 0.00e+00],\n",
       "       [0.00e+00, 0.00e+00, 0.00e+00, 0.00e+00, 0.00e+00]])"
      ]
     },
     "execution_count": 74,
     "metadata": {},
     "output_type": "execute_result"
    }
   ],
   "source": [
    "data = np.concatenate([my_data, guncel])\n",
    "data"
   ]
  },
  {
   "cell_type": "markdown",
   "id": "5e802a5c",
   "metadata": {},
   "source": [
    "* Sum the columns of `data`"
   ]
  },
  {
   "cell_type": "code",
   "execution_count": 75,
   "id": "8144b453",
   "metadata": {},
   "outputs": [
    {
     "data": {
      "text/plain": [
       "array([7.112000e+03, 4.127000e+03, 1.031253e+06, 2.564300e+04,\n",
       "       1.780000e+02])"
      ]
     },
     "execution_count": 75,
     "metadata": {},
     "output_type": "execute_result"
    }
   ],
   "source": [
    "data.sum(axis=0)"
   ]
  },
  {
   "cell_type": "markdown",
   "id": "30a08f6b",
   "metadata": {},
   "source": [
    "* Sum the rows of `data`"
   ]
  },
  {
   "cell_type": "code",
   "execution_count": 77,
   "id": "f943a39e",
   "metadata": {},
   "outputs": [
    {
     "data": {
      "text/plain": [
       "array([1.2651e+04, 3.2920e+03, 4.0530e+03, 5.0680e+03, 6.1020e+03,\n",
       "       1.0120e+03, 1.7740e+03, 3.0480e+03, 2.2840e+03, 1.1650e+04,\n",
       "       5.8350e+03, 7.5700e+02, 2.5410e+03, 3.3110e+03, 1.5240e+03,\n",
       "       1.2690e+03, 3.5650e+03, 3.8170e+03, 1.5240e+03, 7.6000e+02,\n",
       "       7.6000e+02, 2.7930e+03, 1.5250e+03, 1.5250e+03, 2.2840e+03,\n",
       "       3.5580e+03, 1.5240e+03, 3.0510e+03, 1.2710e+03, 2.0330e+03,\n",
       "       3.5730e+03, 2.5430e+03, 2.5430e+03, 2.2900e+03, 4.0820e+03,\n",
       "       2.0390e+03, 3.0620e+03, 1.5270e+03, 3.5740e+03, 1.7840e+03,\n",
       "       3.3190e+03, 1.2730e+03, 1.2740e+03, 1.2730e+03, 5.0940e+03,\n",
       "       2.2920e+03, 2.2970e+03, 5.0600e+02, 5.0600e+02, 5.0600e+02,\n",
       "       2.8090e+03, 2.8100e+03, 1.5300e+03, 3.0660e+03, 1.2740e+03,\n",
       "       4.8430e+03, 2.0390e+03, 1.7880e+03, 4.0990e+03, 1.5300e+03,\n",
       "       1.7880e+03, 2.0460e+03, 2.5610e+03, 1.2760e+03, 7.6500e+02,\n",
       "       4.0930e+03, 1.0210e+03, 5.0600e+02, 1.7860e+03, 2.3110e+03,\n",
       "       1.0220e+03, 1.0220e+03, 4.3430e+03, 5.0800e+02, 5.0900e+02,\n",
       "       5.0900e+02, 1.0230e+03, 5.0800e+02, 5.0800e+02, 5.0800e+02,\n",
       "       1.5340e+03, 1.0220e+03, 1.0220e+03, 1.0220e+03, 1.5370e+03,\n",
       "       1.5360e+03, 5.1000e+02, 5.1000e+02, 5.1000e+02, 1.7950e+03,\n",
       "       5.1100e+02, 5.1000e+02, 5.1000e+02, 5.1000e+02, 2.7960e+03,\n",
       "       1.7890e+03, 4.3560e+03, 2.3020e+03, 1.0230e+03, 1.7890e+03,\n",
       "       2.0470e+03, 3.3420e+03, 2.3030e+03, 1.2830e+03, 1.2830e+03,\n",
       "       4.3430e+03, 2.0670e+03, 1.2840e+03, 7.6900e+02, 2.5760e+03,\n",
       "       1.2830e+03, 2.3090e+03, 1.2820e+03, 2.0530e+03, 3.0960e+03,\n",
       "       6.0990e+03, 1.8060e+03, 2.8260e+03, 1.8150e+03, 2.8430e+03,\n",
       "       7.7200e+02, 1.2860e+03, 1.5500e+03, 1.2910e+03, 1.0320e+03,\n",
       "       1.2910e+03, 2.0590e+03, 1.0320e+03, 2.0610e+03, 5.1500e+02,\n",
       "       1.2870e+03, 3.1090e+03, 5.1400e+02, 1.5450e+03, 2.8510e+03,\n",
       "       7.7400e+02, 1.2940e+03, 3.1120e+03, 1.2830e+03, 5.1500e+02,\n",
       "       2.3350e+03, 3.6050e+03, 7.7300e+02, 7.7300e+02, 5.1600e+02,\n",
       "       7.7400e+02, 7.7300e+02, 5.1500e+02, 5.1600e+02, 5.1500e+02,\n",
       "       1.8180e+03, 1.5490e+03, 2.8430e+03, 2.5600e+02, 2.5500e+02,\n",
       "       2.5500e+02, 2.5500e+02, 2.5500e+02, 2.5500e+02, 2.5500e+02,\n",
       "       2.5500e+02, 2.5500e+02, 2.5500e+02, 2.5600e+02, 2.5600e+02,\n",
       "       2.5600e+02, 2.5500e+02, 2.5500e+02, 2.5500e+02, 2.5500e+02,\n",
       "       2.5500e+02, 2.5500e+02, 2.5500e+02, 2.5500e+02, 2.5500e+02,\n",
       "       2.5560e+03, 1.0320e+03, 1.2930e+03, 1.5520e+03, 7.7700e+02,\n",
       "       1.0350e+03, 1.0300e+03, 1.0410e+03, 3.1040e+03, 2.0470e+03,\n",
       "       2.3030e+03, 1.2930e+03, 1.0340e+03, 3.8500e+03, 1.2950e+03,\n",
       "       1.8130e+03, 1.8130e+03, 1.0410e+03, 2.8140e+03, 5.1800e+02,\n",
       "       1.3050e+03, 2.0560e+03, 1.5570e+03, 1.7970e+03, 2.3130e+03,\n",
       "       1.5620e+03, 1.8190e+03, 5.2000e+02, 1.8190e+03, 2.3080e+03,\n",
       "       1.5430e+03, 5.2000e+02, 1.8350e+03, 1.5440e+03, 7.7800e+02,\n",
       "       2.5900e+02, 2.5900e+02, 2.5900e+02, 2.5900e+02, 2.5900e+02,\n",
       "       2.6000e+02, 2.5900e+02, 2.5900e+02, 2.5900e+02, 2.5900e+02,\n",
       "       2.5900e+02, 2.6000e+02, 2.6000e+02, 2.5900e+02, 2.6000e+02,\n",
       "       2.6000e+02, 2.5900e+02, 7.8100e+02, 2.5900e+02, 2.5900e+02,\n",
       "       2.5900e+02, 2.6000e+02, 2.5900e+02, 2.0570e+03, 1.7970e+03,\n",
       "       2.5810e+03, 7.7900e+02, 5.2000e+02, 1.0490e+03, 2.3250e+03,\n",
       "       2.0690e+03, 5.6310e+03, 7.8300e+02, 4.3580e+03, 5.2200e+02,\n",
       "       1.3050e+03, 3.0810e+03, 3.1050e+03, 5.2400e+02, 5.2400e+02,\n",
       "       5.2400e+02, 1.5830e+03, 2.0610e+03, 7.8100e+02, 3.3340e+03,\n",
       "       7.9000e+02, 2.0520e+03, 1.8050e+03, 7.8500e+02, 3.0820e+03,\n",
       "       1.0490e+03, 3.5990e+03, 5.2700e+02, 7.9400e+02, 1.3170e+03,\n",
       "       1.0520e+03, 5.2800e+02, 2.0650e+03, 1.8430e+03, 1.0380e+03,\n",
       "       2.8170e+03, 1.8010e+03, 5.2500e+02, 1.3170e+03, 1.3170e+03,\n",
       "       1.0540e+03, 3.3340e+03, 7.9100e+02, 4.6100e+03, 2.0670e+03,\n",
       "       4.1000e+03, 1.0410e+03, 1.2950e+03, 5.2600e+02, 1.2990e+03,\n",
       "       5.2700e+02, 5.2900e+02, 5.2800e+02, 1.2980e+03, 7.8700e+02,\n",
       "       1.0420e+03, 3.0780e+03, 1.0430e+03, 1.3010e+03, 1.3010e+03,\n",
       "       1.0760e+03, 1.2970e+03, 5.3000e+02, 5.3000e+02, 5.3000e+02,\n",
       "       5.3000e+02, 5.3000e+02, 5.3000e+02, 8.0700e+02, 1.5540e+03,\n",
       "       1.3040e+03, 1.3330e+03, 7.8700e+02, 1.0430e+03, 7.8800e+02,\n",
       "       1.3040e+03, 5.2900e+02, 2.3310e+03, 2.6900e+02, 2.6900e+02,\n",
       "       5.3500e+02, 5.3000e+02, 1.0440e+03, 2.3430e+03, 1.3070e+03,\n",
       "       4.1130e+03, 1.3160e+03, 1.0490e+03, 2.0730e+03, 1.8110e+03,\n",
       "       5.3200e+02, 5.4500e+02, 4.1280e+03, 1.0470e+03, 1.8120e+03,\n",
       "       1.8180e+03, 1.5570e+03, 1.5580e+03, 1.8310e+03, 5.3400e+02,\n",
       "       7.9100e+02, 7.9200e+02, 1.8320e+03, 2.7400e+02, 7.9600e+02,\n",
       "       1.0480e+03, 9.6590e+03, 1.5750e+03, 2.7300e+02, 2.7300e+02,\n",
       "       2.7300e+02, 2.7300e+02, 2.7300e+02, 2.7300e+02, 2.7300e+02,\n",
       "       2.7300e+02, 5.3400e+02, 1.3160e+03, 5.3400e+02, 1.0480e+03,\n",
       "       5.4700e+02, 1.5620e+03, 7.9300e+02, 5.3700e+02, 4.1010e+03,\n",
       "       1.5710e+03, 5.3700e+02, 8.2800e+02, 3.3410e+03, 1.5880e+03,\n",
       "       5.3800e+02, 3.8450e+03, 1.0560e+03, 5.3900e+02, 1.3120e+03,\n",
       "       5.5800e+02, 7.9800e+02, 5.5800e+02, 1.0780e+03, 1.0580e+03,\n",
       "       8.0500e+02, 1.3190e+03, 2.7900e+02, 2.7900e+02, 2.7900e+02,\n",
       "       2.7900e+02, 2.7900e+02, 2.7900e+02, 2.7900e+02, 2.7900e+02,\n",
       "       1.8430e+03, 2.7900e+02, 2.7900e+02, 8.1400e+02, 1.8440e+03,\n",
       "       1.0730e+03, 1.0740e+03, 5.6500e+02, 1.0760e+03, 1.0600e+03,\n",
       "       2.6150e+03, 5.4500e+02, 8.0000e+02, 2.1000e+03, 8.0100e+02,\n",
       "       5.4300e+02, 1.3110e+03, 2.0770e+03, 8.0300e+02, 1.3330e+03,\n",
       "       8.0800e+02, 2.8300e+02, 2.8300e+02, 2.8300e+02, 2.8300e+02,\n",
       "       2.8300e+02, 2.8300e+02, 2.8300e+02, 1.0650e+03, 2.8300e+02,\n",
       "       2.8300e+02, 2.8300e+02, 2.8300e+02, 2.8300e+02, 5.4400e+02,\n",
       "       5.4600e+02, 5.4500e+02, 5.4600e+02, 5.4600e+02, 1.0750e+03,\n",
       "       1.3310e+03, 5.4800e+02, 1.3430e+03, 8.0400e+02, 8.0900e+02,\n",
       "       5.6300e+02, 5.6300e+02, 1.8610e+03, 1.0820e+03, 5.5100e+02,\n",
       "       1.8660e+03, 5.4800e+02, 8.1900e+02, 3.6300e+03, 2.1210e+03,\n",
       "       8.1500e+02, 8.4000e+02, 5.6500e+02, 8.4000e+02, 3.1210e+03,\n",
       "       8.0900e+02, 5.5100e+02, 5.5100e+02, 2.0950e+03, 8.1900e+02,\n",
       "       8.0900e+02, 8.1200e+02, 5.5300e+02, 2.9300e+02, 2.9300e+02,\n",
       "       2.9300e+02, 2.9300e+02, 2.9300e+02, 2.9300e+02, 2.9300e+02,\n",
       "       2.9300e+02, 2.9300e+02, 2.9400e+02, 2.9300e+02, 2.9300e+02,\n",
       "       1.3360e+03, 1.0720e+03, 1.0770e+03, 2.9600e+02, 5.8300e+02,\n",
       "       1.3360e+03, 8.1600e+02, 8.1700e+02, 8.5000e+02, 5.5800e+02,\n",
       "       1.3310e+03, 1.5990e+03, 2.9700e+02, 2.9700e+02, 2.9700e+02,\n",
       "       2.9700e+02, 2.9700e+02, 2.9700e+02, 2.9700e+02, 2.9700e+02,\n",
       "       1.0800e+03, 1.6130e+03, 8.2400e+02, 5.6400e+02, 8.3800e+02,\n",
       "       5.8800e+02, 8.4400e+02, 1.1140e+03, 8.6500e+02, 6.1200e+02,\n",
       "       8.5200e+02, 3.2700e+02, 3.2700e+02, 3.3100e+02, 3.9900e+02,\n",
       "       1.0882e+04, 5.5570e+03, 8.6140e+03, 1.1144e+04, 6.6030e+03,\n",
       "       1.0392e+04, 5.3170e+03, 2.7860e+03, 5.3260e+03, 3.2980e+03,\n",
       "       1.0130e+03, 2.7890e+03, 2.7910e+03, 3.5520e+03, 4.0590e+03,\n",
       "       1.5240e+03, 1.2710e+03, 8.3860e+03, 2.5470e+03, 2.5430e+03,\n",
       "       2.8040e+03, 2.8050e+03, 3.3070e+03, 2.5550e+03, 2.2910e+03,\n",
       "       1.0170e+03, 1.2740e+03, 3.8310e+03, 6.1080e+03, 1.5310e+03,\n",
       "       1.2760e+03, 1.0210e+03, 2.0400e+03, 1.0200e+03, 1.5340e+03,\n",
       "       1.2760e+03, 1.7920e+03, 1.5350e+03, 2.0490e+03, 5.0900e+02,\n",
       "       1.5370e+03, 2.5640e+03, 4.0910e+03, 5.1100e+02, 3.6100e+03,\n",
       "       5.1100e+02, 3.5690e+03, 7.6600e+02, 3.0850e+03, 1.7940e+03,\n",
       "       1.0240e+03, 1.5440e+03, 1.5390e+03, 7.6900e+02, 1.0290e+03,\n",
       "       1.0260e+03, 1.5390e+03, 1.5400e+03, 1.2830e+03, 2.0610e+03,\n",
       "       2.8300e+03, 2.3150e+03, 4.1190e+03, 2.5640e+03, 3.6040e+03,\n",
       "       2.3360e+03, 1.5450e+03, 2.3180e+03, 1.5460e+03, 1.5530e+03,\n",
       "       1.5550e+03, 5.1500e+02, 5.1600e+02, 5.1500e+02, 5.1600e+02,\n",
       "       1.5490e+03, 1.0370e+03, 2.3060e+03, 1.2840e+03, 7.7600e+02,\n",
       "       2.5500e+02, 2.5600e+02, 2.5500e+02, 2.5500e+02, 2.5500e+02,\n",
       "       2.5500e+02, 2.5600e+02, 2.5500e+02, 2.5500e+02, 2.5500e+02,\n",
       "       2.5500e+02, 2.8100e+03, 7.7700e+02, 2.8200e+03, 2.8410e+03,\n",
       "       1.2960e+03, 2.5800e+02, 1.5530e+03, 7.7900e+02, 2.8120e+03,\n",
       "       5.1800e+02, 1.5560e+03, 7.7600e+02, 2.0480e+03, 5.1900e+02,\n",
       "       2.8600e+03, 1.8360e+03, 1.8360e+03, 2.5900e+02, 2.5900e+02,\n",
       "       2.5900e+02, 2.5900e+02, 2.6000e+02, 2.5900e+02, 2.5900e+02,\n",
       "       2.5900e+02, 2.5900e+02, 2.5900e+02, 2.6000e+02, 2.5900e+02,\n",
       "       1.8230e+03, 2.5900e+02, 1.0430e+03, 1.5450e+03, 7.8100e+02,\n",
       "       1.2970e+03, 2.3220e+03, 5.2400e+02, 1.3200e+03, 2.8570e+03,\n",
       "       2.3310e+03, 5.2600e+02, 7.8500e+02, 3.8480e+03, 7.8200e+02,\n",
       "       4.1160e+03, 1.3170e+03, 1.8060e+03, 1.0420e+03, 2.3560e+03,\n",
       "       2.0720e+03, 1.3140e+03, 1.5580e+03, 1.3030e+03, 5.3100e+02,\n",
       "       5.3000e+02, 5.3000e+02, 5.3700e+02, 7.8700e+02, 2.0680e+03,\n",
       "       2.6900e+02, 1.2980e+03, 1.0440e+03, 5.3600e+02, 7.8800e+02,\n",
       "       4.1090e+03, 5.3700e+02, 2.0720e+03, 7.9000e+02, 1.8160e+03,\n",
       "       1.3030e+03, 5.3400e+02, 7.9000e+02, 2.0910e+03, 2.7300e+02,\n",
       "       2.7300e+02, 2.7300e+02, 2.7400e+02, 2.7300e+02, 8.3100e+02,\n",
       "       8.3200e+02, 1.0480e+03, 3.8680e+03, 3.6130e+03, 2.5880e+03,\n",
       "       7.9200e+02, 7.9300e+02, 4.8540e+03, 1.8430e+03, 7.9500e+02,\n",
       "       3.6040e+03, 5.5200e+02, 5.3800e+02, 8.0100e+02, 1.0530e+03,\n",
       "       1.8160e+03, 1.8460e+03, 1.5720e+03, 8.0000e+02, 2.7900e+02,\n",
       "       2.7900e+02, 2.7900e+02, 2.7900e+02, 2.7900e+02, 2.7900e+02,\n",
       "       1.8330e+03, 8.0200e+02, 8.0200e+02, 1.8370e+03, 5.4400e+02,\n",
       "       8.0400e+02, 2.8300e+02, 2.8300e+02, 2.8300e+02, 2.8300e+02,\n",
       "       2.8300e+02, 5.4500e+02, 1.0890e+03, 5.5200e+02, 1.5750e+03,\n",
       "       5.4800e+02, 1.5740e+03, 5.5200e+02, 1.6030e+03, 1.0780e+03,\n",
       "       1.3420e+03, 5.4900e+02, 8.0900e+02, 8.0900e+02, 2.1000e+03,\n",
       "       8.1200e+02, 8.1100e+02, 8.1400e+02, 5.5300e+02, 2.9300e+02,\n",
       "       2.9300e+02, 1.5810e+03, 2.9300e+02, 2.9300e+02, 8.1500e+02,\n",
       "       5.5600e+02, 8.4600e+02, 2.9800e+02, 2.9700e+02, 2.9700e+02,\n",
       "       2.9700e+02, 2.9700e+02, 2.9700e+02, 2.9700e+02, 1.0790e+03,\n",
       "       2.9700e+02, 1.8680e+03, 8.5500e+02, 5.6300e+02, 5.7500e+02,\n",
       "       8.3800e+02, 3.2900e+02, 3.9500e+02, 6.0000e+00, 0.0000e+00])"
      ]
     },
     "execution_count": 77,
     "metadata": {},
     "output_type": "execute_result"
    }
   ],
   "source": [
    "data.sum(axis=1)"
   ]
  },
  {
   "cell_type": "markdown",
   "id": "0fd51b6a",
   "metadata": {},
   "source": [
    "* Return the maximum values of each column"
   ]
  },
  {
   "cell_type": "code",
   "execution_count": 78,
   "id": "4e6ef02b",
   "metadata": {},
   "outputs": [
    {
     "data": {
      "text/plain": [
       "array([7.40e+01, 5.00e+01, 1.25e+04, 9.80e+01, 1.00e+00])"
      ]
     },
     "execution_count": 78,
     "metadata": {},
     "output_type": "execute_result"
    }
   ],
   "source": [
    "data.max(axis=0)"
   ]
  },
  {
   "cell_type": "markdown",
   "id": "cd24fa1d",
   "metadata": {},
   "source": [
    "* Return the maximum values of each row"
   ]
  },
  {
   "cell_type": "code",
   "execution_count": 84,
   "id": "6c261b37",
   "metadata": {},
   "outputs": [
    {
     "data": {
      "text/plain": [
       "array([1.250e+04, 3.250e+03, 4.000e+03, 5.000e+03, 6.000e+03, 1.000e+03,\n",
       "       1.750e+03, 3.000e+03, 2.250e+03, 1.150e+04, 5.750e+03, 7.500e+02,\n",
       "       2.500e+03, 3.250e+03, 1.500e+03, 1.250e+03, 3.500e+03, 3.750e+03,\n",
       "       1.500e+03, 7.500e+02, 7.500e+02, 2.750e+03, 1.500e+03, 1.500e+03,\n",
       "       2.250e+03, 3.500e+03, 1.500e+03, 3.000e+03, 1.250e+03, 2.000e+03,\n",
       "       3.500e+03, 2.500e+03, 2.500e+03, 2.250e+03, 4.000e+03, 2.000e+03,\n",
       "       3.000e+03, 1.500e+03, 3.500e+03, 1.750e+03, 3.250e+03, 1.250e+03,\n",
       "       1.250e+03, 1.250e+03, 5.000e+03, 2.250e+03, 2.250e+03, 5.000e+02,\n",
       "       5.000e+02, 5.000e+02, 2.750e+03, 2.750e+03, 1.500e+03, 3.000e+03,\n",
       "       1.250e+03, 4.750e+03, 2.000e+03, 1.750e+03, 4.000e+03, 1.500e+03,\n",
       "       1.750e+03, 2.000e+03, 2.500e+03, 1.250e+03, 7.500e+02, 4.000e+03,\n",
       "       1.000e+03, 5.000e+02, 1.750e+03, 2.250e+03, 1.000e+03, 1.000e+03,\n",
       "       4.250e+03, 5.000e+02, 5.000e+02, 5.000e+02, 1.000e+03, 5.000e+02,\n",
       "       5.000e+02, 5.000e+02, 1.500e+03, 1.000e+03, 1.000e+03, 1.000e+03,\n",
       "       1.500e+03, 1.500e+03, 5.000e+02, 5.000e+02, 5.000e+02, 1.750e+03,\n",
       "       5.000e+02, 5.000e+02, 5.000e+02, 5.000e+02, 2.750e+03, 1.750e+03,\n",
       "       4.250e+03, 2.250e+03, 1.000e+03, 1.750e+03, 2.000e+03, 3.250e+03,\n",
       "       2.250e+03, 1.250e+03, 1.250e+03, 4.250e+03, 2.000e+03, 1.250e+03,\n",
       "       7.500e+02, 2.500e+03, 1.250e+03, 2.250e+03, 1.250e+03, 2.000e+03,\n",
       "       3.000e+03, 6.000e+03, 1.750e+03, 2.750e+03, 1.750e+03, 2.750e+03,\n",
       "       7.500e+02, 1.250e+03, 1.500e+03, 1.250e+03, 1.000e+03, 1.250e+03,\n",
       "       2.000e+03, 1.000e+03, 2.000e+03, 5.000e+02, 1.250e+03, 3.000e+03,\n",
       "       5.000e+02, 1.500e+03, 2.750e+03, 7.500e+02, 1.250e+03, 3.000e+03,\n",
       "       1.250e+03, 5.000e+02, 2.250e+03, 3.500e+03, 7.500e+02, 7.500e+02,\n",
       "       5.000e+02, 7.500e+02, 7.500e+02, 5.000e+02, 5.000e+02, 5.000e+02,\n",
       "       1.750e+03, 1.500e+03, 2.750e+03, 2.500e+02, 2.500e+02, 2.500e+02,\n",
       "       2.500e+02, 2.500e+02, 2.500e+02, 2.500e+02, 2.500e+02, 2.500e+02,\n",
       "       2.500e+02, 2.500e+02, 2.500e+02, 2.500e+02, 2.500e+02, 2.500e+02,\n",
       "       2.500e+02, 2.500e+02, 2.500e+02, 2.500e+02, 2.500e+02, 2.500e+02,\n",
       "       2.500e+02, 2.500e+03, 1.000e+03, 1.250e+03, 1.500e+03, 7.500e+02,\n",
       "       1.000e+03, 1.000e+03, 1.000e+03, 3.000e+03, 2.000e+03, 2.250e+03,\n",
       "       1.250e+03, 1.000e+03, 3.750e+03, 1.250e+03, 1.750e+03, 1.750e+03,\n",
       "       1.000e+03, 2.750e+03, 5.000e+02, 1.250e+03, 2.000e+03, 1.500e+03,\n",
       "       1.750e+03, 2.250e+03, 1.500e+03, 1.750e+03, 5.000e+02, 1.750e+03,\n",
       "       2.250e+03, 1.500e+03, 5.000e+02, 1.750e+03, 1.500e+03, 7.500e+02,\n",
       "       2.500e+02, 2.500e+02, 2.500e+02, 2.500e+02, 2.500e+02, 2.500e+02,\n",
       "       2.500e+02, 2.500e+02, 2.500e+02, 2.500e+02, 2.500e+02, 2.500e+02,\n",
       "       2.500e+02, 2.500e+02, 2.500e+02, 2.500e+02, 2.500e+02, 7.500e+02,\n",
       "       2.500e+02, 2.500e+02, 2.500e+02, 2.500e+02, 2.500e+02, 2.000e+03,\n",
       "       1.750e+03, 2.500e+03, 7.500e+02, 5.000e+02, 1.000e+03, 2.250e+03,\n",
       "       2.000e+03, 5.500e+03, 7.500e+02, 4.250e+03, 5.000e+02, 1.250e+03,\n",
       "       3.000e+03, 3.000e+03, 5.000e+02, 5.000e+02, 5.000e+02, 1.500e+03,\n",
       "       2.000e+03, 7.500e+02, 3.250e+03, 7.500e+02, 2.000e+03, 1.750e+03,\n",
       "       7.500e+02, 3.000e+03, 1.000e+03, 3.500e+03, 5.000e+02, 7.500e+02,\n",
       "       1.250e+03, 1.000e+03, 5.000e+02, 2.000e+03, 1.750e+03, 1.000e+03,\n",
       "       2.750e+03, 1.750e+03, 5.000e+02, 1.250e+03, 1.250e+03, 1.000e+03,\n",
       "       3.250e+03, 7.500e+02, 4.500e+03, 2.000e+03, 4.000e+03, 1.000e+03,\n",
       "       1.250e+03, 5.000e+02, 1.250e+03, 5.000e+02, 5.000e+02, 5.000e+02,\n",
       "       1.250e+03, 7.500e+02, 1.000e+03, 3.000e+03, 1.000e+03, 1.250e+03,\n",
       "       1.250e+03, 1.000e+03, 1.250e+03, 5.000e+02, 5.000e+02, 5.000e+02,\n",
       "       5.000e+02, 5.000e+02, 5.000e+02, 7.500e+02, 1.500e+03, 1.250e+03,\n",
       "       1.250e+03, 7.500e+02, 1.000e+03, 7.500e+02, 1.250e+03, 5.000e+02,\n",
       "       2.250e+03, 2.500e+02, 2.500e+02, 5.000e+02, 5.000e+02, 1.000e+03,\n",
       "       2.250e+03, 1.250e+03, 4.000e+03, 1.250e+03, 1.000e+03, 2.000e+03,\n",
       "       1.750e+03, 5.000e+02, 5.000e+02, 4.000e+03, 1.000e+03, 1.750e+03,\n",
       "       1.750e+03, 1.500e+03, 1.500e+03, 1.750e+03, 5.000e+02, 7.500e+02,\n",
       "       7.500e+02, 1.750e+03, 2.500e+02, 7.500e+02, 1.000e+03, 9.500e+03,\n",
       "       1.500e+03, 2.500e+02, 2.500e+02, 2.500e+02, 2.500e+02, 2.500e+02,\n",
       "       2.500e+02, 2.500e+02, 2.500e+02, 5.000e+02, 1.250e+03, 5.000e+02,\n",
       "       1.000e+03, 5.000e+02, 1.500e+03, 7.500e+02, 5.000e+02, 4.000e+03,\n",
       "       1.500e+03, 5.000e+02, 7.500e+02, 3.250e+03, 1.500e+03, 5.000e+02,\n",
       "       3.750e+03, 1.000e+03, 5.000e+02, 1.250e+03, 5.000e+02, 7.500e+02,\n",
       "       5.000e+02, 1.000e+03, 1.000e+03, 7.500e+02, 1.250e+03, 2.500e+02,\n",
       "       2.500e+02, 2.500e+02, 2.500e+02, 2.500e+02, 2.500e+02, 2.500e+02,\n",
       "       2.500e+02, 1.750e+03, 2.500e+02, 2.500e+02, 7.500e+02, 1.750e+03,\n",
       "       1.000e+03, 1.000e+03, 5.000e+02, 1.000e+03, 1.000e+03, 2.500e+03,\n",
       "       5.000e+02, 7.500e+02, 2.000e+03, 7.500e+02, 5.000e+02, 1.250e+03,\n",
       "       2.000e+03, 7.500e+02, 1.250e+03, 7.500e+02, 2.500e+02, 2.500e+02,\n",
       "       2.500e+02, 2.500e+02, 2.500e+02, 2.500e+02, 2.500e+02, 1.000e+03,\n",
       "       2.500e+02, 2.500e+02, 2.500e+02, 2.500e+02, 2.500e+02, 5.000e+02,\n",
       "       5.000e+02, 5.000e+02, 5.000e+02, 5.000e+02, 1.000e+03, 1.250e+03,\n",
       "       5.000e+02, 1.250e+03, 7.500e+02, 7.500e+02, 5.000e+02, 5.000e+02,\n",
       "       1.750e+03, 1.000e+03, 5.000e+02, 1.750e+03, 5.000e+02, 7.500e+02,\n",
       "       3.500e+03, 2.000e+03, 7.500e+02, 7.500e+02, 5.000e+02, 7.500e+02,\n",
       "       3.000e+03, 7.500e+02, 5.000e+02, 5.000e+02, 2.000e+03, 7.500e+02,\n",
       "       7.500e+02, 7.500e+02, 5.000e+02, 2.500e+02, 2.500e+02, 2.500e+02,\n",
       "       2.500e+02, 2.500e+02, 2.500e+02, 2.500e+02, 2.500e+02, 2.500e+02,\n",
       "       2.500e+02, 2.500e+02, 2.500e+02, 1.250e+03, 1.000e+03, 1.000e+03,\n",
       "       2.500e+02, 5.000e+02, 1.250e+03, 7.500e+02, 7.500e+02, 7.500e+02,\n",
       "       5.000e+02, 1.250e+03, 1.500e+03, 2.500e+02, 2.500e+02, 2.500e+02,\n",
       "       2.500e+02, 2.500e+02, 2.500e+02, 2.500e+02, 2.500e+02, 1.000e+03,\n",
       "       1.500e+03, 7.500e+02, 5.000e+02, 7.500e+02, 5.000e+02, 7.500e+02,\n",
       "       1.000e+03, 7.500e+02, 5.000e+02, 7.500e+02, 2.500e+02, 2.500e+02,\n",
       "       2.500e+02, 2.500e+02, 1.075e+04, 5.500e+03, 8.500e+03, 1.100e+04,\n",
       "       6.500e+03, 1.025e+04, 5.250e+03, 2.750e+03, 5.250e+03, 3.250e+03,\n",
       "       1.000e+03, 2.750e+03, 2.750e+03, 3.500e+03, 4.000e+03, 1.500e+03,\n",
       "       1.250e+03, 8.250e+03, 2.500e+03, 2.500e+03, 2.750e+03, 2.750e+03,\n",
       "       3.250e+03, 2.500e+03, 2.250e+03, 1.000e+03, 1.250e+03, 3.750e+03,\n",
       "       6.000e+03, 1.500e+03, 1.250e+03, 1.000e+03, 2.000e+03, 1.000e+03,\n",
       "       1.500e+03, 1.250e+03, 1.750e+03, 1.500e+03, 2.000e+03, 5.000e+02,\n",
       "       1.500e+03, 2.500e+03, 4.000e+03, 5.000e+02, 3.500e+03, 5.000e+02,\n",
       "       3.500e+03, 7.500e+02, 3.000e+03, 1.750e+03, 1.000e+03, 1.500e+03,\n",
       "       1.500e+03, 7.500e+02, 1.000e+03, 1.000e+03, 1.500e+03, 1.500e+03,\n",
       "       1.250e+03, 2.000e+03, 2.750e+03, 2.250e+03, 4.000e+03, 2.500e+03,\n",
       "       3.500e+03, 2.250e+03, 1.500e+03, 2.250e+03, 1.500e+03, 1.500e+03,\n",
       "       1.500e+03, 5.000e+02, 5.000e+02, 5.000e+02, 5.000e+02, 1.500e+03,\n",
       "       1.000e+03, 2.250e+03, 1.250e+03, 7.500e+02, 2.500e+02, 2.500e+02,\n",
       "       2.500e+02, 2.500e+02, 2.500e+02, 2.500e+02, 2.500e+02, 2.500e+02,\n",
       "       2.500e+02, 2.500e+02, 2.500e+02, 2.750e+03, 7.500e+02, 2.750e+03,\n",
       "       2.750e+03, 1.250e+03, 2.500e+02, 1.500e+03, 7.500e+02, 2.750e+03,\n",
       "       5.000e+02, 1.500e+03, 7.500e+02, 2.000e+03, 5.000e+02, 2.750e+03,\n",
       "       1.750e+03, 1.750e+03, 2.500e+02, 2.500e+02, 2.500e+02, 2.500e+02,\n",
       "       2.500e+02, 2.500e+02, 2.500e+02, 2.500e+02, 2.500e+02, 2.500e+02,\n",
       "       2.500e+02, 2.500e+02, 1.750e+03, 2.500e+02, 1.000e+03, 1.500e+03,\n",
       "       7.500e+02, 1.250e+03, 2.250e+03, 5.000e+02, 1.250e+03, 2.750e+03,\n",
       "       2.250e+03, 5.000e+02, 7.500e+02, 3.750e+03, 7.500e+02, 4.000e+03,\n",
       "       1.250e+03, 1.750e+03, 1.000e+03, 2.250e+03, 2.000e+03, 1.250e+03,\n",
       "       1.500e+03, 1.250e+03, 5.000e+02, 5.000e+02, 5.000e+02, 5.000e+02,\n",
       "       7.500e+02, 2.000e+03, 2.500e+02, 1.250e+03, 1.000e+03, 5.000e+02,\n",
       "       7.500e+02, 4.000e+03, 5.000e+02, 2.000e+03, 7.500e+02, 1.750e+03,\n",
       "       1.250e+03, 5.000e+02, 7.500e+02, 2.000e+03, 2.500e+02, 2.500e+02,\n",
       "       2.500e+02, 2.500e+02, 2.500e+02, 7.500e+02, 7.500e+02, 1.000e+03,\n",
       "       3.750e+03, 3.500e+03, 2.500e+03, 7.500e+02, 7.500e+02, 4.750e+03,\n",
       "       1.750e+03, 7.500e+02, 3.500e+03, 5.000e+02, 5.000e+02, 7.500e+02,\n",
       "       1.000e+03, 1.750e+03, 1.750e+03, 1.500e+03, 7.500e+02, 2.500e+02,\n",
       "       2.500e+02, 2.500e+02, 2.500e+02, 2.500e+02, 2.500e+02, 1.750e+03,\n",
       "       7.500e+02, 7.500e+02, 1.750e+03, 5.000e+02, 7.500e+02, 2.500e+02,\n",
       "       2.500e+02, 2.500e+02, 2.500e+02, 2.500e+02, 5.000e+02, 1.000e+03,\n",
       "       5.000e+02, 1.500e+03, 5.000e+02, 1.500e+03, 5.000e+02, 1.500e+03,\n",
       "       1.000e+03, 1.250e+03, 5.000e+02, 7.500e+02, 7.500e+02, 2.000e+03,\n",
       "       7.500e+02, 7.500e+02, 7.500e+02, 5.000e+02, 2.500e+02, 2.500e+02,\n",
       "       1.500e+03, 2.500e+02, 2.500e+02, 7.500e+02, 5.000e+02, 7.500e+02,\n",
       "       2.500e+02, 2.500e+02, 2.500e+02, 2.500e+02, 2.500e+02, 2.500e+02,\n",
       "       2.500e+02, 1.000e+03, 2.500e+02, 1.750e+03, 7.500e+02, 5.000e+02,\n",
       "       5.000e+02, 7.500e+02, 2.500e+02, 2.500e+02, 3.000e+00, 0.000e+00])"
      ]
     },
     "execution_count": 84,
     "metadata": {},
     "output_type": "execute_result"
    }
   ],
   "source": [
    "data.max(axis=1)"
   ]
  },
  {
   "cell_type": "markdown",
   "id": "3913ed78",
   "metadata": {},
   "source": [
    "* Return the minimum values of each column"
   ]
  },
  {
   "cell_type": "code",
   "execution_count": 86,
   "id": "10b07cb0",
   "metadata": {},
   "outputs": [
    {
     "data": {
      "text/plain": [
       "array([0., 0., 0., 0., 0.])"
      ]
     },
     "execution_count": 86,
     "metadata": {},
     "output_type": "execute_result"
    }
   ],
   "source": [
    "data.min(axis=0)"
   ]
  },
  {
   "cell_type": "markdown",
   "id": "d5fdfa06",
   "metadata": {},
   "source": [
    "* Return the minimum values of each row"
   ]
  },
  {
   "cell_type": "code",
   "execution_count": 87,
   "id": "4adb993d",
   "metadata": {},
   "outputs": [
    {
     "data": {
      "text/plain": [
       "array([1., 0., 1., 1., 0., 0., 1., 0., 1., 1., 0., 0., 1., 0., 1., 1., 1.,\n",
       "       1., 1., 1., 1., 0., 1., 1., 0., 0., 0., 1., 1., 0., 0., 1., 1., 1.,\n",
       "       0., 1., 1., 1., 1., 1., 1., 0., 1., 0., 1., 1., 0., 0., 0., 0., 0.,\n",
       "       1., 0., 0., 1., 1., 1., 1., 0., 0., 0., 1., 0., 1., 1., 0., 1., 0.,\n",
       "       0., 0., 0., 0., 1., 0., 1., 1., 1., 0., 0., 0., 1., 0., 0., 0., 1.,\n",
       "       0., 0., 0., 0., 1., 1., 0., 0., 0., 0., 0., 0., 1., 1., 1., 1., 1.,\n",
       "       0., 0., 0., 0., 0., 0., 0., 0., 1., 0., 0., 1., 0., 0., 1., 0., 0.,\n",
       "       1., 1., 1., 1., 1., 0., 0., 1., 0., 1., 1., 0., 0., 0., 0., 0., 0.,\n",
       "       0., 0., 0., 0., 0., 0., 0., 0., 1., 1., 0., 0., 1., 0., 1., 0., 0.,\n",
       "       1., 0., 0., 0., 0., 0., 0., 0., 0., 0., 1., 1., 1., 0., 0., 0., 0.,\n",
       "       0., 0., 0., 0., 0., 0., 1., 1., 1., 0., 1., 0., 0., 0., 0., 0., 0.,\n",
       "       0., 0., 1., 0., 0., 0., 0., 0., 1., 1., 0., 0., 0., 0., 0., 1., 0.,\n",
       "       0., 0., 0., 0., 0., 0., 0., 0., 0., 0., 0., 1., 0., 0., 0., 0., 0.,\n",
       "       1., 1., 0., 1., 1., 0., 0., 0., 0., 0., 1., 0., 0., 0., 0., 0., 0.,\n",
       "       0., 0., 1., 0., 1., 1., 0., 0., 0., 0., 0., 0., 0., 0., 1., 1., 0.,\n",
       "       0., 0., 0., 0., 0., 0., 1., 0., 1., 0., 1., 0., 0., 0., 0., 0., 0.,\n",
       "       0., 0., 0., 0., 0., 0., 0., 0., 0., 1., 0., 0., 0., 0., 0., 1., 1.,\n",
       "       1., 1., 0., 0., 0., 0., 0., 0., 0., 0., 0., 0., 0., 0., 0., 0., 1.,\n",
       "       0., 0., 0., 0., 0., 0., 0., 0., 0., 0., 0., 0., 1., 0., 0., 1., 0.,\n",
       "       1., 0., 0., 0., 0., 1., 0., 0., 0., 1., 1., 0., 1., 0., 0., 1., 0.,\n",
       "       0., 0., 0., 0., 0., 0., 0., 0., 0., 0., 0., 0., 0., 0., 0., 0., 0.,\n",
       "       0., 0., 0., 0., 0., 0., 0., 0., 1., 0., 0., 0., 1., 1., 0., 0., 0.,\n",
       "       0., 1., 0., 0., 0., 0., 0., 0., 0., 0., 0., 0., 0., 0., 0., 0., 0.,\n",
       "       0., 0., 0., 0., 0., 1., 0., 0., 1., 0., 0., 0., 0., 0., 0., 0., 0.,\n",
       "       0., 0., 0., 0., 0., 0., 0., 0., 0., 0., 0., 0., 0., 0., 0., 0., 0.,\n",
       "       0., 0., 0., 0., 0., 0., 0., 1., 0., 0., 0., 0., 0., 0., 0., 0., 0.,\n",
       "       0., 0., 0., 0., 0., 0., 0., 0., 0., 0., 0., 0., 0., 0., 0., 0., 0.,\n",
       "       0., 0., 0., 1., 0., 0., 0., 0., 0., 1., 0., 0., 0., 0., 0., 0., 1.,\n",
       "       0., 0., 0., 0., 0., 0., 0., 0., 0., 0., 0., 0., 0., 0., 0., 0., 0.,\n",
       "       0., 0., 0., 0., 0., 0., 0., 1., 1., 1., 0., 0., 1., 1., 0., 1., 1.,\n",
       "       1., 0., 0., 0., 1., 0., 1., 1., 1., 1., 1., 1., 1., 1., 0., 0., 1.,\n",
       "       0., 0., 1., 1., 1., 0., 0., 0., 1., 1., 1., 1., 1., 1., 0., 1., 1.,\n",
       "       0., 1., 0., 0., 1., 1., 0., 1., 1., 0., 0., 0., 0., 0., 0., 0., 1.,\n",
       "       0., 1., 0., 0., 0., 0., 0., 1., 0., 0., 0., 1., 0., 1., 1., 1., 0.,\n",
       "       0., 0., 0., 1., 0., 0., 0., 0., 1., 0., 0., 0., 0., 0., 0., 1., 0.,\n",
       "       0., 1., 0., 0., 0., 0., 0., 0., 0., 0., 0., 0., 0., 0., 0., 0., 0.,\n",
       "       1., 0., 0., 0., 0., 0., 1., 0., 0., 0., 1., 0., 1., 0., 0., 0., 0.,\n",
       "       0., 0., 0., 0., 0., 0., 0., 0., 0., 0., 1., 1., 0., 0., 0., 1., 0.,\n",
       "       0., 0., 0., 0., 0., 0., 0., 0., 0., 0., 0., 0., 0., 0., 0., 0., 0.,\n",
       "       0., 0., 0., 0., 1., 0., 1., 0., 0., 0., 0., 0., 0., 0., 0., 0., 0.,\n",
       "       1., 0., 0., 0., 0., 0., 0., 0., 0., 0., 0., 0., 0., 0., 0., 1., 0.,\n",
       "       0., 0., 0., 0., 0., 0., 0., 0., 0., 0., 0., 1., 0., 0., 0., 1., 0.,\n",
       "       0., 0., 0., 0., 0., 0., 0., 0., 0., 0., 0., 0., 0., 0., 0., 0., 0.,\n",
       "       0., 1., 0., 0., 0., 0., 0., 0., 0., 0., 0., 0., 0., 0., 0., 0., 0.,\n",
       "       0., 0.])"
      ]
     },
     "execution_count": 87,
     "metadata": {},
     "output_type": "execute_result"
    }
   ],
   "source": [
    "data.min(axis=1)"
   ]
  },
  {
   "cell_type": "markdown",
   "id": "4e88a6c2",
   "metadata": {},
   "source": [
    "* Find the index of the biggest value\n",
    "* Note: The value you're about to reach is the index of our `data`'s flatten value."
   ]
  },
  {
   "cell_type": "code",
   "execution_count": 81,
   "id": "4a65787c",
   "metadata": {},
   "outputs": [
    {
     "data": {
      "text/plain": [
       "2"
      ]
     },
     "execution_count": 81,
     "metadata": {},
     "output_type": "execute_result"
    }
   ],
   "source": [
    "np.argmax(data)"
   ]
  },
  {
   "cell_type": "markdown",
   "id": "f97a769e",
   "metadata": {},
   "source": [
    "* Find the index of the smallest value"
   ]
  },
  {
   "cell_type": "code",
   "execution_count": 82,
   "id": "e1c56e6f",
   "metadata": {},
   "outputs": [
    {
     "data": {
      "text/plain": [
       "5"
      ]
     },
     "execution_count": 82,
     "metadata": {},
     "output_type": "execute_result"
    }
   ],
   "source": [
    "np.argmin(data)"
   ]
  },
  {
   "cell_type": "markdown",
   "id": "34cd67b9",
   "metadata": {},
   "source": [
    "* Transpose to `data` and set it the result as `datat`"
   ]
  },
  {
   "cell_type": "code",
   "execution_count": 88,
   "id": "821a77f1",
   "metadata": {},
   "outputs": [
    {
     "data": {
      "text/plain": [
       "array([[2.00e+00, 0.00e+00, 1.00e+00, ..., 7.20e+01, 1.00e+00, 0.00e+00],\n",
       "       [5.00e+01, 1.30e+01, 1.60e+01, ..., 1.00e+00, 2.00e+00, 0.00e+00],\n",
       "       [1.25e+04, 3.25e+03, 4.00e+03, ..., 2.50e+02, 3.00e+00, 0.00e+00],\n",
       "       [9.80e+01, 2.80e+01, 3.50e+01, ..., 7.20e+01, 0.00e+00, 0.00e+00],\n",
       "       [1.00e+00, 1.00e+00, 1.00e+00, ..., 0.00e+00, 0.00e+00, 0.00e+00]])"
      ]
     },
     "execution_count": 88,
     "metadata": {},
     "output_type": "execute_result"
    }
   ],
   "source": [
    "datat = data.T\n",
    "datat"
   ]
  }
 ],
 "metadata": {
  "kernelspec": {
   "display_name": "Python 3",
   "language": "python",
   "name": "python3"
  },
  "language_info": {
   "codemirror_mode": {
    "name": "ipython",
    "version": 3
   },
   "file_extension": ".py",
   "mimetype": "text/x-python",
   "name": "python",
   "nbconvert_exporter": "python",
   "pygments_lexer": "ipython3",
   "version": "3.8.3"
  }
 },
 "nbformat": 4,
 "nbformat_minor": 5
}
