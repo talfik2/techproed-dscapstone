{
 "cells": [
  {
   "cell_type": "markdown",
   "metadata": {},
   "source": [
    "# PANDAS CAPSTONE PROJECT- SCHOOL SAFETY\n",
    "\n",
    "![schoolsafety.png](schoolsafety.png)\n",
    "\n",
    "* Since 1998, the New York City Police Department (NYPD) has been tasked with the collection and maintenance of crime data for incidents that occur in New York City public schools. For presentation purposes, each incident has been classified in one of three categories. These categories are:\n",
    "<br>\n",
    "* **Major Crimes:** This category is consistent with those regularly and publicly reported by the NYPD. It includes the most serious personal and property crimes. The property crimes are burglary, grand larceny and grand larceny auto. The crimes against persons are murder, rape, robbery and felony assault.\n",
    "<br>\n",
    "* **Other Crimes:** This category is composed of many crimes and incidents that range in severity. It includes reports of incidents such as arson/explosion, misdemeanor assault, criminal possession or sale of a controlled substance, sale of marijuana, criminal mischief, petit larceny, reckless endangerment, sex offenses (not including rape, which is included in the Major Crimes), and weapons possession.\n",
    "<br>\n",
    "* **Non-Criminal Incidents:** This category includes actions which are not classified as crimes but are nevertheless disruptive to the school environment. It includes disorderly conduct, harassment, loitering, possession of marijuana, dangerous instruments and trespass.\n",
    "<br>\n",
    "NYPD and NYC Department of Education are stored this crime data as annualy school safety reports and published on https://www.data.gov/ . <br>\n",
    " __In this Data Analysis exercise, I concatenated the School Safety Reports of the 2015 and 2016, and I will try to Analyse this data.__ <br>\n"
   ]
  },
  {
   "cell_type": "markdown",
   "metadata": {},
   "source": [
    "### IMPORTING LIBRARIES"
   ]
  },
  {
   "cell_type": "code",
   "execution_count": 1,
   "metadata": {},
   "outputs": [],
   "source": [
    "import numpy as np\n",
    "import pandas as pd"
   ]
  },
  {
   "cell_type": "markdown",
   "metadata": {},
   "source": [
    "### STEP 1: EXAMINING DF "
   ]
  },
  {
   "cell_type": "markdown",
   "metadata": {},
   "source": [
    "#### IMPORTING DATA\n",
    "\n",
    "* Import the school safety data and name it as:\n",
    "    * 2015_16ss: `ss1516`\n",
    "    * 2016_17ss: `ss1617`\n",
    "* Don't forget to set `encoding=\"utf-8\"` , `quotechar='\"\"'`, and `delimiter=\",\"`"
   ]
  },
  {
   "cell_type": "code",
   "execution_count": 2,
   "metadata": {},
   "outputs": [],
   "source": [
    "url1 = \"C:\\\\Users\\\\talfi\\\\python\\\\dersler\\\\capstones\\\\pandas\\\\schoolsafetynyc\\\\2015_16ss.csv\"\n",
    "url2 = \"C:\\\\Users\\\\talfi\\\\python\\\\dersler\\\\capstones\\\\pandas\\\\schoolsafetynyc\\\\2016_17ss.csv\"\n",
    "ss1516 = pd.read_csv(url1,encoding='utf-8', quotechar='\"', delimiter=',')\n",
    "ss1617 = pd.read_csv(url2,encoding='utf-8', quotechar='\"', delimiter=',')"
   ]
  },
  {
   "cell_type": "markdown",
   "metadata": {},
   "source": [
    "* Create `ss1517` by concating `ss1516` and `ss1617`\n",
    "* Use `shape` to figure out how many rows and columns our `ss1517` has."
   ]
  },
  {
   "cell_type": "code",
   "execution_count": 3,
   "metadata": {},
   "outputs": [
    {
     "data": {
      "text/plain": [
       "(4116, 20)"
      ]
     },
     "execution_count": 3,
     "metadata": {},
     "output_type": "execute_result"
    }
   ],
   "source": [
    "ss1517 = pd.concat([ss1516,ss1617],axis=0,join=\"inner\")\n",
    "ss1517.shape"
   ]
  },
  {
   "cell_type": "markdown",
   "metadata": {},
   "source": [
    "We have 4116 rows and 20 columns. This is a fair- sized dataset for our Analysis."
   ]
  },
  {
   "cell_type": "code",
   "execution_count": 4,
   "metadata": {
    "scrolled": true
   },
   "outputs": [
    {
     "data": {
      "text/html": [
       "<div>\n",
       "<style scoped>\n",
       "    .dataframe tbody tr th:only-of-type {\n",
       "        vertical-align: middle;\n",
       "    }\n",
       "\n",
       "    .dataframe tbody tr th {\n",
       "        vertical-align: top;\n",
       "    }\n",
       "\n",
       "    .dataframe thead th {\n",
       "        text-align: right;\n",
       "    }\n",
       "</style>\n",
       "<table border=\"1\" class=\"dataframe\">\n",
       "  <thead>\n",
       "    <tr style=\"text-align: right;\">\n",
       "      <th></th>\n",
       "      <th>Location Name</th>\n",
       "      <th>Location Code</th>\n",
       "      <th>Borough</th>\n",
       "      <th>Geographical District Code</th>\n",
       "      <th>Register</th>\n",
       "      <th>Building Name</th>\n",
       "      <th># Schools</th>\n",
       "      <th>Schools in Building</th>\n",
       "      <th>Major N</th>\n",
       "      <th>Oth N</th>\n",
       "      <th>NoCrim N</th>\n",
       "      <th>Prop N</th>\n",
       "      <th>Vio N</th>\n",
       "      <th>ENGroupA</th>\n",
       "      <th>RangeA</th>\n",
       "      <th>AvgOfMajor N</th>\n",
       "      <th>AvgOfOth N</th>\n",
       "      <th>AvgOfNoCrim N</th>\n",
       "      <th>AvgOfProp N</th>\n",
       "      <th>AvgOfVio N</th>\n",
       "    </tr>\n",
       "  </thead>\n",
       "  <tbody>\n",
       "    <tr>\n",
       "      <th>0</th>\n",
       "      <td>P.S. 001 The Bergen</td>\n",
       "      <td>K001</td>\n",
       "      <td>K</td>\n",
       "      <td>15.0</td>\n",
       "      <td>1280.0</td>\n",
       "      <td>NaN</td>\n",
       "      <td>1.0</td>\n",
       "      <td>P.S. 001 The Bergen</td>\n",
       "      <td>0.0</td>\n",
       "      <td>1.0</td>\n",
       "      <td>0.0</td>\n",
       "      <td>1.0</td>\n",
       "      <td>0.0</td>\n",
       "      <td>7C</td>\n",
       "      <td>1251-1500</td>\n",
       "      <td>0.64</td>\n",
       "      <td>3.02</td>\n",
       "      <td>5.77</td>\n",
       "      <td>1.72</td>\n",
       "      <td>1.54</td>\n",
       "    </tr>\n",
       "    <tr>\n",
       "      <th>1</th>\n",
       "      <td>Parkside Preparatory Academy</td>\n",
       "      <td>K002</td>\n",
       "      <td>K</td>\n",
       "      <td>17.0</td>\n",
       "      <td>475.0</td>\n",
       "      <td>655 PARKSIDE AVENUE CONSOLIDATED LOCATION</td>\n",
       "      <td>3.0</td>\n",
       "      <td>Parkside Preparatory Academy |  P.S. K141 |Exp...</td>\n",
       "      <td>NaN</td>\n",
       "      <td>NaN</td>\n",
       "      <td>NaN</td>\n",
       "      <td>NaN</td>\n",
       "      <td>NaN</td>\n",
       "      <td>3C</td>\n",
       "      <td>251-500</td>\n",
       "      <td>NaN</td>\n",
       "      <td>NaN</td>\n",
       "      <td>NaN</td>\n",
       "      <td>NaN</td>\n",
       "      <td>NaN</td>\n",
       "    </tr>\n",
       "    <tr>\n",
       "      <th>2</th>\n",
       "      <td>EXPLORE CHARTER SCHOOL(BS)</td>\n",
       "      <td>K704</td>\n",
       "      <td>K</td>\n",
       "      <td>17.0</td>\n",
       "      <td>529.0</td>\n",
       "      <td>655 PARKSIDE AVENUE CONSOLIDATED LOCATION</td>\n",
       "      <td>3.0</td>\n",
       "      <td>Parkside Preparatory Academy |  P.S. K141 |Exp...</td>\n",
       "      <td>NaN</td>\n",
       "      <td>NaN</td>\n",
       "      <td>NaN</td>\n",
       "      <td>NaN</td>\n",
       "      <td>NaN</td>\n",
       "      <td>4C</td>\n",
       "      <td>501-750</td>\n",
       "      <td>NaN</td>\n",
       "      <td>NaN</td>\n",
       "      <td>NaN</td>\n",
       "      <td>NaN</td>\n",
       "      <td>NaN</td>\n",
       "    </tr>\n",
       "  </tbody>\n",
       "</table>\n",
       "</div>"
      ],
      "text/plain": [
       "                  Location Name Location Code Borough  \\\n",
       "0           P.S. 001 The Bergen          K001       K   \n",
       "1  Parkside Preparatory Academy          K002       K   \n",
       "2    EXPLORE CHARTER SCHOOL(BS)          K704       K   \n",
       "\n",
       "   Geographical District Code  Register  \\\n",
       "0                        15.0    1280.0   \n",
       "1                        17.0     475.0   \n",
       "2                        17.0     529.0   \n",
       "\n",
       "                               Building Name  # Schools  \\\n",
       "0                                        NaN        1.0   \n",
       "1  655 PARKSIDE AVENUE CONSOLIDATED LOCATION        3.0   \n",
       "2  655 PARKSIDE AVENUE CONSOLIDATED LOCATION        3.0   \n",
       "\n",
       "                                 Schools in Building  Major N  Oth N  \\\n",
       "0                                P.S. 001 The Bergen      0.0    1.0   \n",
       "1  Parkside Preparatory Academy |  P.S. K141 |Exp...      NaN    NaN   \n",
       "2  Parkside Preparatory Academy |  P.S. K141 |Exp...      NaN    NaN   \n",
       "\n",
       "   NoCrim N  Prop N  Vio N ENGroupA     RangeA  AvgOfMajor N  AvgOfOth N  \\\n",
       "0       0.0     1.0    0.0       7C  1251-1500          0.64        3.02   \n",
       "1       NaN     NaN    NaN       3C    251-500           NaN         NaN   \n",
       "2       NaN     NaN    NaN       4C    501-750           NaN         NaN   \n",
       "\n",
       "   AvgOfNoCrim N  AvgOfProp N  AvgOfVio N  \n",
       "0           5.77         1.72        1.54  \n",
       "1            NaN          NaN         NaN  \n",
       "2            NaN          NaN         NaN  "
      ]
     },
     "execution_count": 4,
     "metadata": {},
     "output_type": "execute_result"
    }
   ],
   "source": [
    "ss1517.head(3)"
   ]
  },
  {
   "cell_type": "markdown",
   "metadata": {},
   "source": [
    "#### Explanation of the Columns is needed to understand our analysis better <br>\n",
    "* __Location Name__ is the the name by which the organization is known. For a learning community, it is the official title of the school. <br>\n",
    "* __Location Code__ is a unique identifier that can include schools, administrative offices, learning communities, etc. <br>\n",
    "* __Borough__ is the NYC Boro the location is situated in. <br>\n",
    "* __Geographical District Code__ the school’s geographical district as defined by the NYC Department of Education. <br>\n",
    "* __Register__ Number of students on register. <br>\n",
    "* __Building Name__ is the the official name of the building a school is located in. <br>\n",
    "* __# Schools__ is the number of schools in in the building. <br>\n",
    "* __Schools in the Building__ is the names of the schools in the buildings. <br>\n",
    "* __Major N__ is the number of major crimes. <br>\n",
    "* __Oth N__ is the number of other crimes. <br>\n",
    "* __NoCrim N__ is the number of non - criminal crimes. <br>\n",
    "* __Prop N__ is the number of property crimes. <br>\n",
    "* __Vio N__ is the number of violent crimes. <br>\n",
    "* __EnGroup A__ is the building population. <br>\n",
    "* __Range A__ is the group name the building population falls under. <br>\n",
    "* __AvgofMajorN__ is the average of major crimes for all buildings that have the same EnGroupA/Range A. <br>\n",
    "* __AvgofOthN__ is the average of other crimes for all buildings that have the same EnGroupA/Range A. <br>\n",
    "* __AvgofNoCrimN__ is the average of non-criminal crimes for all buildings that have the same EnGroupA/Range A. <br>\n",
    "* __AvgofPropN__ is the average of property crimes for all buildings that have the same EnGroupA/Range A. <br>\n",
    "* __AvgofVioN__ is the average of violent crimes for all buildings that have the same EnGroupA/Range A. <br>\n",
    "---\n",
    "Let's take a breif look of our data."
   ]
  },
  {
   "cell_type": "markdown",
   "metadata": {},
   "source": [
    "* Use `.info()` to get summary information about the `ss1517`"
   ]
  },
  {
   "cell_type": "code",
   "execution_count": 6,
   "metadata": {},
   "outputs": [
    {
     "name": "stdout",
     "output_type": "stream",
     "text": [
      "<class 'pandas.core.frame.DataFrame'>\n",
      "Int64Index: 4116 entries, 0 to 2045\n",
      "Data columns (total 20 columns):\n",
      " #   Column                      Non-Null Count  Dtype  \n",
      "---  ------                      --------------  -----  \n",
      " 0   Location Name               4115 non-null   object \n",
      " 1   Location Code               3790 non-null   object \n",
      " 2   Borough                     4113 non-null   object \n",
      " 3   Geographical District Code  4112 non-null   float64\n",
      " 4   Register                    4046 non-null   float64\n",
      " 5   Building Name               2373 non-null   object \n",
      " 6   # Schools                   4115 non-null   float64\n",
      " 7   Schools in Building         4115 non-null   object \n",
      " 8   Major N                     2401 non-null   float64\n",
      " 9   Oth N                       2401 non-null   float64\n",
      " 10  NoCrim N                    2401 non-null   float64\n",
      " 11  Prop N                      2401 non-null   float64\n",
      " 12  Vio N                       2401 non-null   float64\n",
      " 13  ENGroupA                    4073 non-null   object \n",
      " 14  RangeA                      4073 non-null   object \n",
      " 15  AvgOfMajor N                2400 non-null   float64\n",
      " 16  AvgOfOth N                  2400 non-null   float64\n",
      " 17  AvgOfNoCrim N               2399 non-null   float64\n",
      " 18  AvgOfProp N                 2399 non-null   float64\n",
      " 19  AvgOfVio N                  2400 non-null   float64\n",
      "dtypes: float64(13), object(7)\n",
      "memory usage: 675.3+ KB\n"
     ]
    }
   ],
   "source": [
    "ss1517.info()"
   ]
  },
  {
   "cell_type": "markdown",
   "metadata": {},
   "source": [
    "While 8 of our column's dtpyes are object, 12 of them's dtypes are float.\n",
    "___\n",
    "\n",
    "Let's examine the summary statistics of our ss1517 df:"
   ]
  },
  {
   "cell_type": "markdown",
   "metadata": {},
   "source": [
    "* Use `.describe()` to receive summary statistics about `ss1517`"
   ]
  },
  {
   "cell_type": "code",
   "execution_count": 5,
   "metadata": {
    "scrolled": true
   },
   "outputs": [
    {
     "data": {
      "text/html": [
       "<div>\n",
       "<style scoped>\n",
       "    .dataframe tbody tr th:only-of-type {\n",
       "        vertical-align: middle;\n",
       "    }\n",
       "\n",
       "    .dataframe tbody tr th {\n",
       "        vertical-align: top;\n",
       "    }\n",
       "\n",
       "    .dataframe thead th {\n",
       "        text-align: right;\n",
       "    }\n",
       "</style>\n",
       "<table border=\"1\" class=\"dataframe\">\n",
       "  <thead>\n",
       "    <tr style=\"text-align: right;\">\n",
       "      <th></th>\n",
       "      <th>Geographical District Code</th>\n",
       "      <th>Register</th>\n",
       "      <th># Schools</th>\n",
       "      <th>Major N</th>\n",
       "      <th>Oth N</th>\n",
       "      <th>NoCrim N</th>\n",
       "      <th>Prop N</th>\n",
       "      <th>Vio N</th>\n",
       "      <th>AvgOfMajor N</th>\n",
       "      <th>AvgOfOth N</th>\n",
       "      <th>AvgOfNoCrim N</th>\n",
       "      <th>AvgOfProp N</th>\n",
       "      <th>AvgOfVio N</th>\n",
       "    </tr>\n",
       "  </thead>\n",
       "  <tbody>\n",
       "    <tr>\n",
       "      <th>count</th>\n",
       "      <td>4112.000000</td>\n",
       "      <td>4046.000000</td>\n",
       "      <td>4115.000000</td>\n",
       "      <td>2401.000000</td>\n",
       "      <td>2401.000000</td>\n",
       "      <td>2401.000000</td>\n",
       "      <td>2401.000000</td>\n",
       "      <td>2401.000000</td>\n",
       "      <td>2400.000000</td>\n",
       "      <td>2400.000000</td>\n",
       "      <td>2399.000000</td>\n",
       "      <td>2399.000000</td>\n",
       "      <td>2400.000000</td>\n",
       "    </tr>\n",
       "    <tr>\n",
       "      <th>mean</th>\n",
       "      <td>15.419018</td>\n",
       "      <td>687.297084</td>\n",
       "      <td>2.170595</td>\n",
       "      <td>0.426489</td>\n",
       "      <td>1.746772</td>\n",
       "      <td>3.489379</td>\n",
       "      <td>1.052895</td>\n",
       "      <td>0.875052</td>\n",
       "      <td>0.438704</td>\n",
       "      <td>1.836046</td>\n",
       "      <td>3.384894</td>\n",
       "      <td>1.120796</td>\n",
       "      <td>0.879746</td>\n",
       "    </tr>\n",
       "    <tr>\n",
       "      <th>std</th>\n",
       "      <td>9.221523</td>\n",
       "      <td>547.373869</td>\n",
       "      <td>1.452559</td>\n",
       "      <td>0.873994</td>\n",
       "      <td>2.849710</td>\n",
       "      <td>7.013974</td>\n",
       "      <td>1.750748</td>\n",
       "      <td>1.689985</td>\n",
       "      <td>0.347415</td>\n",
       "      <td>1.669645</td>\n",
       "      <td>4.018752</td>\n",
       "      <td>0.898922</td>\n",
       "      <td>0.761603</td>\n",
       "    </tr>\n",
       "    <tr>\n",
       "      <th>min</th>\n",
       "      <td>0.000000</td>\n",
       "      <td>25.000000</td>\n",
       "      <td>1.000000</td>\n",
       "      <td>0.000000</td>\n",
       "      <td>0.000000</td>\n",
       "      <td>0.000000</td>\n",
       "      <td>0.000000</td>\n",
       "      <td>0.000000</td>\n",
       "      <td>0.240000</td>\n",
       "      <td>0.710000</td>\n",
       "      <td>1.670000</td>\n",
       "      <td>0.510000</td>\n",
       "      <td>0.320000</td>\n",
       "    </tr>\n",
       "    <tr>\n",
       "      <th>25%</th>\n",
       "      <td>8.000000</td>\n",
       "      <td>354.000000</td>\n",
       "      <td>1.000000</td>\n",
       "      <td>0.000000</td>\n",
       "      <td>0.000000</td>\n",
       "      <td>0.000000</td>\n",
       "      <td>0.000000</td>\n",
       "      <td>0.000000</td>\n",
       "      <td>0.270000</td>\n",
       "      <td>0.900000</td>\n",
       "      <td>1.710000</td>\n",
       "      <td>0.630000</td>\n",
       "      <td>0.440000</td>\n",
       "    </tr>\n",
       "    <tr>\n",
       "      <th>50%</th>\n",
       "      <td>14.000000</td>\n",
       "      <td>529.500000</td>\n",
       "      <td>2.000000</td>\n",
       "      <td>0.000000</td>\n",
       "      <td>1.000000</td>\n",
       "      <td>1.000000</td>\n",
       "      <td>0.000000</td>\n",
       "      <td>0.000000</td>\n",
       "      <td>0.280000</td>\n",
       "      <td>1.110000</td>\n",
       "      <td>1.740000</td>\n",
       "      <td>0.750000</td>\n",
       "      <td>0.530000</td>\n",
       "    </tr>\n",
       "    <tr>\n",
       "      <th>75%</th>\n",
       "      <td>24.000000</td>\n",
       "      <td>850.000000</td>\n",
       "      <td>3.000000</td>\n",
       "      <td>1.000000</td>\n",
       "      <td>2.000000</td>\n",
       "      <td>4.000000</td>\n",
       "      <td>1.000000</td>\n",
       "      <td>1.000000</td>\n",
       "      <td>0.570000</td>\n",
       "      <td>2.120000</td>\n",
       "      <td>3.640000</td>\n",
       "      <td>1.390000</td>\n",
       "      <td>1.050000</td>\n",
       "    </tr>\n",
       "    <tr>\n",
       "      <th>max</th>\n",
       "      <td>32.000000</td>\n",
       "      <td>5682.000000</td>\n",
       "      <td>8.000000</td>\n",
       "      <td>8.000000</td>\n",
       "      <td>25.000000</td>\n",
       "      <td>88.000000</td>\n",
       "      <td>16.000000</td>\n",
       "      <td>13.000000</td>\n",
       "      <td>3.140000</td>\n",
       "      <td>13.000000</td>\n",
       "      <td>34.860000</td>\n",
       "      <td>8.290000</td>\n",
       "      <td>5.290000</td>\n",
       "    </tr>\n",
       "  </tbody>\n",
       "</table>\n",
       "</div>"
      ],
      "text/plain": [
       "       Geographical District Code     Register    # Schools      Major N  \\\n",
       "count                 4112.000000  4046.000000  4115.000000  2401.000000   \n",
       "mean                    15.419018   687.297084     2.170595     0.426489   \n",
       "std                      9.221523   547.373869     1.452559     0.873994   \n",
       "min                      0.000000    25.000000     1.000000     0.000000   \n",
       "25%                      8.000000   354.000000     1.000000     0.000000   \n",
       "50%                     14.000000   529.500000     2.000000     0.000000   \n",
       "75%                     24.000000   850.000000     3.000000     1.000000   \n",
       "max                     32.000000  5682.000000     8.000000     8.000000   \n",
       "\n",
       "             Oth N     NoCrim N       Prop N        Vio N  AvgOfMajor N  \\\n",
       "count  2401.000000  2401.000000  2401.000000  2401.000000   2400.000000   \n",
       "mean      1.746772     3.489379     1.052895     0.875052      0.438704   \n",
       "std       2.849710     7.013974     1.750748     1.689985      0.347415   \n",
       "min       0.000000     0.000000     0.000000     0.000000      0.240000   \n",
       "25%       0.000000     0.000000     0.000000     0.000000      0.270000   \n",
       "50%       1.000000     1.000000     0.000000     0.000000      0.280000   \n",
       "75%       2.000000     4.000000     1.000000     1.000000      0.570000   \n",
       "max      25.000000    88.000000    16.000000    13.000000      3.140000   \n",
       "\n",
       "        AvgOfOth N  AvgOfNoCrim N  AvgOfProp N   AvgOfVio N  \n",
       "count  2400.000000    2399.000000  2399.000000  2400.000000  \n",
       "mean      1.836046       3.384894     1.120796     0.879746  \n",
       "std       1.669645       4.018752     0.898922     0.761603  \n",
       "min       0.710000       1.670000     0.510000     0.320000  \n",
       "25%       0.900000       1.710000     0.630000     0.440000  \n",
       "50%       1.110000       1.740000     0.750000     0.530000  \n",
       "75%       2.120000       3.640000     1.390000     1.050000  \n",
       "max      13.000000      34.860000     8.290000     5.290000  "
      ]
     },
     "execution_count": 5,
     "metadata": {},
     "output_type": "execute_result"
    }
   ],
   "source": [
    "ss1517.describe()"
   ]
  },
  {
   "cell_type": "markdown",
   "metadata": {},
   "source": [
    "### STEP 2: LOCATING & REMOVING NA VALUES"
   ]
  },
  {
   "cell_type": "markdown",
   "metadata": {},
   "source": [
    "Let's check whether our df has Na values or not:\n",
    "* Use `isnull().values.any()` for this purpose"
   ]
  },
  {
   "cell_type": "code",
   "execution_count": 6,
   "metadata": {},
   "outputs": [
    {
     "data": {
      "text/plain": [
       "True"
      ]
     },
     "execution_count": 6,
     "metadata": {},
     "output_type": "execute_result"
    }
   ],
   "source": [
    "ss1517.isnull().values.any()"
   ]
  },
  {
   "cell_type": "markdown",
   "metadata": {},
   "source": [
    "Appearently, we have some Na values. Let's figure out how many Na values we have:"
   ]
  },
  {
   "cell_type": "markdown",
   "metadata": {},
   "source": [
    "* Use `isnull().values.sum()` to see how many NA values we have in `ss1517`"
   ]
  },
  {
   "cell_type": "code",
   "execution_count": 7,
   "metadata": {},
   "outputs": [
    {
     "data": {
      "text/plain": [
       "19392"
      ]
     },
     "execution_count": 7,
     "metadata": {},
     "output_type": "execute_result"
    }
   ],
   "source": [
    "ss1517.isnull().values.sum()"
   ]
  },
  {
   "cell_type": "markdown",
   "metadata": {},
   "source": [
    "19392 of our values are Na. Wow!, that's a lot. In that case, we have 3 options: \n",
    "<br>\n",
    "1) We can get rid of them with `ss1517.dropna()` . We can do this but we also loose a lot of useful information because `.dropna()`__drops entire column that has Na value__ , and not every value in that column is Na. That's why we won't go with dropna().\n",
    "<br>\n",
    "2) We can use the `value` parameter of the `fillna()` function. In that case, we can only replace Na 's with one variable. If we try to replace them with int or float, we 'll also replace the Na values in the object columns, and the reverse is also applicable. It seems little messy. <br>\n",
    "3) We can use the `method`parameter of the `fillna()`function. We can set `method='ffill'`to replace Na values with the last valid observation, or we can set `method = 'bfill'`to replace Na values with the next valid observation. If we first set `method = 'ffill'`and then set `method = 'bfill'`, we can remove all Na values with the same dtype of columns. That way we are able to protect our dataframe's structure. That's why we'll go with this option. "
   ]
  },
  {
   "cell_type": "markdown",
   "metadata": {},
   "source": [
    "* Fill the NA values or drop them with the relevant method(s). Briefly explain why do you choose the particular method or why don't you choose the others.."
   ]
  },
  {
   "cell_type": "code",
   "execution_count": 8,
   "metadata": {},
   "outputs": [],
   "source": [
    "ss1517 = ss1517.fillna(method=\"ffill\")"
   ]
  },
  {
   "cell_type": "code",
   "execution_count": 9,
   "metadata": {},
   "outputs": [],
   "source": [
    "ss1517 = ss1517.fillna(method=\"bfill\")"
   ]
  },
  {
   "cell_type": "markdown",
   "metadata": {},
   "source": [
    "Na values check, once more.."
   ]
  },
  {
   "cell_type": "markdown",
   "metadata": {},
   "source": [
    "* Recheck whether you have NA values in `ss1517` or not.."
   ]
  },
  {
   "cell_type": "code",
   "execution_count": 10,
   "metadata": {
    "scrolled": true
   },
   "outputs": [
    {
     "data": {
      "text/plain": [
       "False"
      ]
     },
     "execution_count": 10,
     "metadata": {},
     "output_type": "execute_result"
    }
   ],
   "source": [
    "ss1517.isnull().values.any()"
   ]
  },
  {
   "cell_type": "markdown",
   "metadata": {},
   "source": [
    "* Take a look at your data with `.info()` and evaluate your data within `ss1517`"
   ]
  },
  {
   "cell_type": "markdown",
   "metadata": {},
   "source": [
    "Great ! We don't have any Na values. \n",
    "___\n",
    "\n",
    "Let's check whether we made any changes after we implement `fillna()`"
   ]
  },
  {
   "cell_type": "code",
   "execution_count": 11,
   "metadata": {
    "scrolled": true
   },
   "outputs": [
    {
     "name": "stdout",
     "output_type": "stream",
     "text": [
      "<class 'pandas.core.frame.DataFrame'>\n",
      "Int64Index: 4116 entries, 0 to 2045\n",
      "Data columns (total 20 columns):\n",
      " #   Column                      Non-Null Count  Dtype  \n",
      "---  ------                      --------------  -----  \n",
      " 0   Location Name               4116 non-null   object \n",
      " 1   Location Code               4116 non-null   object \n",
      " 2   Borough                     4116 non-null   object \n",
      " 3   Geographical District Code  4116 non-null   float64\n",
      " 4   Register                    4116 non-null   float64\n",
      " 5   Building Name               4116 non-null   object \n",
      " 6   # Schools                   4116 non-null   float64\n",
      " 7   Schools in Building         4116 non-null   object \n",
      " 8   Major N                     4116 non-null   float64\n",
      " 9   Oth N                       4116 non-null   float64\n",
      " 10  NoCrim N                    4116 non-null   float64\n",
      " 11  Prop N                      4116 non-null   float64\n",
      " 12  Vio N                       4116 non-null   float64\n",
      " 13  ENGroupA                    4116 non-null   object \n",
      " 14  RangeA                      4116 non-null   object \n",
      " 15  AvgOfMajor N                4116 non-null   float64\n",
      " 16  AvgOfOth N                  4116 non-null   float64\n",
      " 17  AvgOfNoCrim N               4116 non-null   float64\n",
      " 18  AvgOfProp N                 4116 non-null   float64\n",
      " 19  AvgOfVio N                  4116 non-null   float64\n",
      "dtypes: float64(13), object(7)\n",
      "memory usage: 675.3+ KB\n"
     ]
    }
   ],
   "source": [
    "ss1517.info()"
   ]
  },
  {
   "cell_type": "markdown",
   "metadata": {},
   "source": [
    "Great ! Everything seems to be in order."
   ]
  },
  {
   "cell_type": "code",
   "execution_count": 12,
   "metadata": {},
   "outputs": [
    {
     "data": {
      "text/html": [
       "<div>\n",
       "<style scoped>\n",
       "    .dataframe tbody tr th:only-of-type {\n",
       "        vertical-align: middle;\n",
       "    }\n",
       "\n",
       "    .dataframe tbody tr th {\n",
       "        vertical-align: top;\n",
       "    }\n",
       "\n",
       "    .dataframe thead th {\n",
       "        text-align: right;\n",
       "    }\n",
       "</style>\n",
       "<table border=\"1\" class=\"dataframe\">\n",
       "  <thead>\n",
       "    <tr style=\"text-align: right;\">\n",
       "      <th></th>\n",
       "      <th>Location Name</th>\n",
       "      <th>Location Code</th>\n",
       "      <th>Borough</th>\n",
       "      <th>Geographical District Code</th>\n",
       "      <th>Register</th>\n",
       "      <th>Building Name</th>\n",
       "      <th># Schools</th>\n",
       "      <th>Schools in Building</th>\n",
       "      <th>Major N</th>\n",
       "      <th>Oth N</th>\n",
       "      <th>NoCrim N</th>\n",
       "      <th>Prop N</th>\n",
       "      <th>Vio N</th>\n",
       "      <th>ENGroupA</th>\n",
       "      <th>RangeA</th>\n",
       "      <th>AvgOfMajor N</th>\n",
       "      <th>AvgOfOth N</th>\n",
       "      <th>AvgOfNoCrim N</th>\n",
       "      <th>AvgOfProp N</th>\n",
       "      <th>AvgOfVio N</th>\n",
       "    </tr>\n",
       "  </thead>\n",
       "  <tbody>\n",
       "    <tr>\n",
       "      <th>0</th>\n",
       "      <td>P.S. 001 The Bergen</td>\n",
       "      <td>K001</td>\n",
       "      <td>K</td>\n",
       "      <td>15.0</td>\n",
       "      <td>1280.0</td>\n",
       "      <td>655 PARKSIDE AVENUE CONSOLIDATED LOCATION</td>\n",
       "      <td>1.0</td>\n",
       "      <td>P.S. 001 The Bergen</td>\n",
       "      <td>0.0</td>\n",
       "      <td>1.0</td>\n",
       "      <td>0.0</td>\n",
       "      <td>1.0</td>\n",
       "      <td>0.0</td>\n",
       "      <td>7C</td>\n",
       "      <td>1251-1500</td>\n",
       "      <td>0.64</td>\n",
       "      <td>3.02</td>\n",
       "      <td>5.77</td>\n",
       "      <td>1.72</td>\n",
       "      <td>1.54</td>\n",
       "    </tr>\n",
       "    <tr>\n",
       "      <th>1</th>\n",
       "      <td>Parkside Preparatory Academy</td>\n",
       "      <td>K002</td>\n",
       "      <td>K</td>\n",
       "      <td>17.0</td>\n",
       "      <td>475.0</td>\n",
       "      <td>655 PARKSIDE AVENUE CONSOLIDATED LOCATION</td>\n",
       "      <td>3.0</td>\n",
       "      <td>Parkside Preparatory Academy |  P.S. K141 |Exp...</td>\n",
       "      <td>0.0</td>\n",
       "      <td>1.0</td>\n",
       "      <td>0.0</td>\n",
       "      <td>1.0</td>\n",
       "      <td>0.0</td>\n",
       "      <td>3C</td>\n",
       "      <td>251-500</td>\n",
       "      <td>0.64</td>\n",
       "      <td>3.02</td>\n",
       "      <td>5.77</td>\n",
       "      <td>1.72</td>\n",
       "      <td>1.54</td>\n",
       "    </tr>\n",
       "    <tr>\n",
       "      <th>2</th>\n",
       "      <td>EXPLORE CHARTER SCHOOL(BS)</td>\n",
       "      <td>K704</td>\n",
       "      <td>K</td>\n",
       "      <td>17.0</td>\n",
       "      <td>529.0</td>\n",
       "      <td>655 PARKSIDE AVENUE CONSOLIDATED LOCATION</td>\n",
       "      <td>3.0</td>\n",
       "      <td>Parkside Preparatory Academy |  P.S. K141 |Exp...</td>\n",
       "      <td>0.0</td>\n",
       "      <td>1.0</td>\n",
       "      <td>0.0</td>\n",
       "      <td>1.0</td>\n",
       "      <td>0.0</td>\n",
       "      <td>4C</td>\n",
       "      <td>501-750</td>\n",
       "      <td>0.64</td>\n",
       "      <td>3.02</td>\n",
       "      <td>5.77</td>\n",
       "      <td>1.72</td>\n",
       "      <td>1.54</td>\n",
       "    </tr>\n",
       "  </tbody>\n",
       "</table>\n",
       "</div>"
      ],
      "text/plain": [
       "                  Location Name Location Code Borough  \\\n",
       "0           P.S. 001 The Bergen          K001       K   \n",
       "1  Parkside Preparatory Academy          K002       K   \n",
       "2    EXPLORE CHARTER SCHOOL(BS)          K704       K   \n",
       "\n",
       "   Geographical District Code  Register  \\\n",
       "0                        15.0    1280.0   \n",
       "1                        17.0     475.0   \n",
       "2                        17.0     529.0   \n",
       "\n",
       "                               Building Name  # Schools  \\\n",
       "0  655 PARKSIDE AVENUE CONSOLIDATED LOCATION        1.0   \n",
       "1  655 PARKSIDE AVENUE CONSOLIDATED LOCATION        3.0   \n",
       "2  655 PARKSIDE AVENUE CONSOLIDATED LOCATION        3.0   \n",
       "\n",
       "                                 Schools in Building  Major N  Oth N  \\\n",
       "0                                P.S. 001 The Bergen      0.0    1.0   \n",
       "1  Parkside Preparatory Academy |  P.S. K141 |Exp...      0.0    1.0   \n",
       "2  Parkside Preparatory Academy |  P.S. K141 |Exp...      0.0    1.0   \n",
       "\n",
       "   NoCrim N  Prop N  Vio N ENGroupA     RangeA  AvgOfMajor N  AvgOfOth N  \\\n",
       "0       0.0     1.0    0.0       7C  1251-1500          0.64        3.02   \n",
       "1       0.0     1.0    0.0       3C    251-500          0.64        3.02   \n",
       "2       0.0     1.0    0.0       4C    501-750          0.64        3.02   \n",
       "\n",
       "   AvgOfNoCrim N  AvgOfProp N  AvgOfVio N  \n",
       "0           5.77         1.72        1.54  \n",
       "1           5.77         1.72        1.54  \n",
       "2           5.77         1.72        1.54  "
      ]
     },
     "execution_count": 12,
     "metadata": {},
     "output_type": "execute_result"
    }
   ],
   "source": [
    "ss1517.head(3)"
   ]
  },
  {
   "cell_type": "markdown",
   "metadata": {},
   "source": [
    "How beautiful does our data sets look like without Na values.."
   ]
  },
  {
   "cell_type": "markdown",
   "metadata": {},
   "source": [
    "### STEP 3: ANALYSING DATA"
   ]
  },
  {
   "cell_type": "markdown",
   "metadata": {},
   "source": [
    "__In this dataset, major crimes are coded like this:__<br>\n",
    "Burglary - 0<br>\n",
    "Grand larceny - 1<br>\n",
    "Grand larceny auto - 2<br>\n",
    "Murder - 3<br>\n",
    "Rape - 4 <br>\n",
    "Robbery - 5<br>\n",
    "Felony - 6<br>\n",
    "Assault - 8<br>\n",
    "___\n",
    "Let's check it out that how is major crimes' distribution in the number of Major Crimes , a.k.a. `Major N`\n",
    "* For that purpose, you can use `unique()` method."
   ]
  },
  {
   "cell_type": "code",
   "execution_count": 13,
   "metadata": {
    "scrolled": false
   },
   "outputs": [
    {
     "name": "stdout",
     "output_type": "stream",
     "text": [
      "[0. 3. 1. 2. 4. 6. 5. 8.]\n"
     ]
    }
   ],
   "source": [
    "avgmajor = ss1517[\"Major N\"].unique()\n",
    "print(avgmajor)"
   ]
  },
  {
   "cell_type": "markdown",
   "metadata": {},
   "source": [
    "Though we have 7 different crimes, Burglary(0) and Grand Larcery(1) are so dominant that other crimes couldn't show themselves on the `Major N` .This explanation will be understood better once we plot our `Major N`(Number of Major Crimes) column.\n",
    "___"
   ]
  },
  {
   "cell_type": "markdown",
   "metadata": {},
   "source": [
    "Let's separate these two and dive deeper. and name it as `bigtwo` <br>\n",
    "Hint: You can use the following structure: `df[df[\"Column\"] <= yourfilter]`"
   ]
  },
  {
   "cell_type": "markdown",
   "metadata": {},
   "source": [
    "### BIG TWO"
   ]
  },
  {
   "cell_type": "code",
   "execution_count": 14,
   "metadata": {},
   "outputs": [],
   "source": [
    "bigtwo = ss1517[ss1517[\"Major N\"] <= 1]"
   ]
  },
  {
   "cell_type": "markdown",
   "metadata": {},
   "source": [
    "Let's examine our big two.\n",
    "* Start with `shape`, then proceed with `info()`\n",
    "* You can also print the first five columns for that purpose."
   ]
  },
  {
   "cell_type": "code",
   "execution_count": 15,
   "metadata": {
    "scrolled": true
   },
   "outputs": [
    {
     "data": {
      "text/plain": [
       "(3606, 20)"
      ]
     },
     "execution_count": 15,
     "metadata": {},
     "output_type": "execute_result"
    }
   ],
   "source": [
    "bigtwo.shape"
   ]
  },
  {
   "cell_type": "code",
   "execution_count": 44,
   "metadata": {
    "scrolled": true
   },
   "outputs": [
    {
     "name": "stdout",
     "output_type": "stream",
     "text": [
      "<class 'pandas.core.frame.DataFrame'>\n",
      "Int64Index: 3606 entries, 0 to 2045\n",
      "Data columns (total 20 columns):\n",
      " #   Column                      Non-Null Count  Dtype  \n",
      "---  ------                      --------------  -----  \n",
      " 0   Location Name               3606 non-null   object \n",
      " 1   Location Code               3606 non-null   object \n",
      " 2   Borough                     3606 non-null   object \n",
      " 3   Geographical District Code  3606 non-null   float64\n",
      " 4   Register                    3606 non-null   float64\n",
      " 5   Building Name               3606 non-null   object \n",
      " 6   # Schools                   3606 non-null   float64\n",
      " 7   Schools in Building         3606 non-null   object \n",
      " 8   Major N                     3606 non-null   float64\n",
      " 9   Oth N                       3606 non-null   float64\n",
      " 10  NoCrim N                    3606 non-null   float64\n",
      " 11  Prop N                      3606 non-null   float64\n",
      " 12  Vio N                       3606 non-null   float64\n",
      " 13  ENGroupA                    3606 non-null   object \n",
      " 14  RangeA                      3606 non-null   object \n",
      " 15  AvgOfMajor N                3606 non-null   float64\n",
      " 16  AvgOfOth N                  3606 non-null   float64\n",
      " 17  AvgOfNoCrim N               3606 non-null   float64\n",
      " 18  AvgOfProp N                 3606 non-null   float64\n",
      " 19  AvgOfVio N                  3606 non-null   float64\n",
      "dtypes: float64(13), object(7)\n",
      "memory usage: 591.6+ KB\n"
     ]
    }
   ],
   "source": [
    "bigtwo.info()"
   ]
  },
  {
   "cell_type": "code",
   "execution_count": 16,
   "metadata": {
    "scrolled": true
   },
   "outputs": [
    {
     "data": {
      "text/html": [
       "<div>\n",
       "<style scoped>\n",
       "    .dataframe tbody tr th:only-of-type {\n",
       "        vertical-align: middle;\n",
       "    }\n",
       "\n",
       "    .dataframe tbody tr th {\n",
       "        vertical-align: top;\n",
       "    }\n",
       "\n",
       "    .dataframe thead th {\n",
       "        text-align: right;\n",
       "    }\n",
       "</style>\n",
       "<table border=\"1\" class=\"dataframe\">\n",
       "  <thead>\n",
       "    <tr style=\"text-align: right;\">\n",
       "      <th></th>\n",
       "      <th>Location Name</th>\n",
       "      <th>Location Code</th>\n",
       "      <th>Borough</th>\n",
       "      <th>Geographical District Code</th>\n",
       "      <th>Register</th>\n",
       "      <th>Building Name</th>\n",
       "      <th># Schools</th>\n",
       "      <th>Schools in Building</th>\n",
       "      <th>Major N</th>\n",
       "      <th>Oth N</th>\n",
       "      <th>NoCrim N</th>\n",
       "      <th>Prop N</th>\n",
       "      <th>Vio N</th>\n",
       "      <th>ENGroupA</th>\n",
       "      <th>RangeA</th>\n",
       "      <th>AvgOfMajor N</th>\n",
       "      <th>AvgOfOth N</th>\n",
       "      <th>AvgOfNoCrim N</th>\n",
       "      <th>AvgOfProp N</th>\n",
       "      <th>AvgOfVio N</th>\n",
       "    </tr>\n",
       "  </thead>\n",
       "  <tbody>\n",
       "    <tr>\n",
       "      <th>0</th>\n",
       "      <td>P.S. 001 The Bergen</td>\n",
       "      <td>K001</td>\n",
       "      <td>K</td>\n",
       "      <td>15.0</td>\n",
       "      <td>1280.0</td>\n",
       "      <td>655 PARKSIDE AVENUE CONSOLIDATED LOCATION</td>\n",
       "      <td>1.0</td>\n",
       "      <td>P.S. 001 The Bergen</td>\n",
       "      <td>0.0</td>\n",
       "      <td>1.0</td>\n",
       "      <td>0.0</td>\n",
       "      <td>1.0</td>\n",
       "      <td>0.0</td>\n",
       "      <td>7C</td>\n",
       "      <td>1251-1500</td>\n",
       "      <td>0.64</td>\n",
       "      <td>3.02</td>\n",
       "      <td>5.77</td>\n",
       "      <td>1.72</td>\n",
       "      <td>1.54</td>\n",
       "    </tr>\n",
       "    <tr>\n",
       "      <th>1</th>\n",
       "      <td>Parkside Preparatory Academy</td>\n",
       "      <td>K002</td>\n",
       "      <td>K</td>\n",
       "      <td>17.0</td>\n",
       "      <td>475.0</td>\n",
       "      <td>655 PARKSIDE AVENUE CONSOLIDATED LOCATION</td>\n",
       "      <td>3.0</td>\n",
       "      <td>Parkside Preparatory Academy |  P.S. K141 |Exp...</td>\n",
       "      <td>0.0</td>\n",
       "      <td>1.0</td>\n",
       "      <td>0.0</td>\n",
       "      <td>1.0</td>\n",
       "      <td>0.0</td>\n",
       "      <td>3C</td>\n",
       "      <td>251-500</td>\n",
       "      <td>0.64</td>\n",
       "      <td>3.02</td>\n",
       "      <td>5.77</td>\n",
       "      <td>1.72</td>\n",
       "      <td>1.54</td>\n",
       "    </tr>\n",
       "    <tr>\n",
       "      <th>2</th>\n",
       "      <td>EXPLORE CHARTER SCHOOL(BS)</td>\n",
       "      <td>K704</td>\n",
       "      <td>K</td>\n",
       "      <td>17.0</td>\n",
       "      <td>529.0</td>\n",
       "      <td>655 PARKSIDE AVENUE CONSOLIDATED LOCATION</td>\n",
       "      <td>3.0</td>\n",
       "      <td>Parkside Preparatory Academy |  P.S. K141 |Exp...</td>\n",
       "      <td>0.0</td>\n",
       "      <td>1.0</td>\n",
       "      <td>0.0</td>\n",
       "      <td>1.0</td>\n",
       "      <td>0.0</td>\n",
       "      <td>4C</td>\n",
       "      <td>501-750</td>\n",
       "      <td>0.64</td>\n",
       "      <td>3.02</td>\n",
       "      <td>5.77</td>\n",
       "      <td>1.72</td>\n",
       "      <td>1.54</td>\n",
       "    </tr>\n",
       "    <tr>\n",
       "      <th>3</th>\n",
       "      <td>P.S. K141</td>\n",
       "      <td>K141</td>\n",
       "      <td>K</td>\n",
       "      <td>17.0</td>\n",
       "      <td>374.0</td>\n",
       "      <td>655 PARKSIDE AVENUE CONSOLIDATED LOCATION</td>\n",
       "      <td>3.0</td>\n",
       "      <td>Parkside Preparatory Academy |  P.S. K141 |Exp...</td>\n",
       "      <td>0.0</td>\n",
       "      <td>1.0</td>\n",
       "      <td>0.0</td>\n",
       "      <td>1.0</td>\n",
       "      <td>0.0</td>\n",
       "      <td>3C</td>\n",
       "      <td>251-500</td>\n",
       "      <td>0.64</td>\n",
       "      <td>3.02</td>\n",
       "      <td>5.77</td>\n",
       "      <td>1.72</td>\n",
       "      <td>1.54</td>\n",
       "    </tr>\n",
       "    <tr>\n",
       "      <th>4</th>\n",
       "      <td>655 PARKSIDE AVENUE CONSOLIDATED LOCATION</td>\n",
       "      <td>K141</td>\n",
       "      <td>K</td>\n",
       "      <td>17.0</td>\n",
       "      <td>1378.0</td>\n",
       "      <td>655 PARKSIDE AVENUE CONSOLIDATED LOCATION</td>\n",
       "      <td>3.0</td>\n",
       "      <td>Parkside Preparatory Academy |  P.S. K141 |Exp...</td>\n",
       "      <td>0.0</td>\n",
       "      <td>3.0</td>\n",
       "      <td>1.0</td>\n",
       "      <td>0.0</td>\n",
       "      <td>1.0</td>\n",
       "      <td>5C</td>\n",
       "      <td>751-1000</td>\n",
       "      <td>0.38</td>\n",
       "      <td>1.71</td>\n",
       "      <td>2.38</td>\n",
       "      <td>0.98</td>\n",
       "      <td>0.82</td>\n",
       "    </tr>\n",
       "  </tbody>\n",
       "</table>\n",
       "</div>"
      ],
      "text/plain": [
       "                               Location Name Location Code Borough  \\\n",
       "0                        P.S. 001 The Bergen          K001       K   \n",
       "1               Parkside Preparatory Academy          K002       K   \n",
       "2                 EXPLORE CHARTER SCHOOL(BS)          K704       K   \n",
       "3                                  P.S. K141          K141       K   \n",
       "4  655 PARKSIDE AVENUE CONSOLIDATED LOCATION          K141       K   \n",
       "\n",
       "   Geographical District Code  Register  \\\n",
       "0                        15.0    1280.0   \n",
       "1                        17.0     475.0   \n",
       "2                        17.0     529.0   \n",
       "3                        17.0     374.0   \n",
       "4                        17.0    1378.0   \n",
       "\n",
       "                               Building Name  # Schools  \\\n",
       "0  655 PARKSIDE AVENUE CONSOLIDATED LOCATION        1.0   \n",
       "1  655 PARKSIDE AVENUE CONSOLIDATED LOCATION        3.0   \n",
       "2  655 PARKSIDE AVENUE CONSOLIDATED LOCATION        3.0   \n",
       "3  655 PARKSIDE AVENUE CONSOLIDATED LOCATION        3.0   \n",
       "4  655 PARKSIDE AVENUE CONSOLIDATED LOCATION        3.0   \n",
       "\n",
       "                                 Schools in Building  Major N  Oth N  \\\n",
       "0                                P.S. 001 The Bergen      0.0    1.0   \n",
       "1  Parkside Preparatory Academy |  P.S. K141 |Exp...      0.0    1.0   \n",
       "2  Parkside Preparatory Academy |  P.S. K141 |Exp...      0.0    1.0   \n",
       "3  Parkside Preparatory Academy |  P.S. K141 |Exp...      0.0    1.0   \n",
       "4  Parkside Preparatory Academy |  P.S. K141 |Exp...      0.0    3.0   \n",
       "\n",
       "   NoCrim N  Prop N  Vio N ENGroupA     RangeA  AvgOfMajor N  AvgOfOth N  \\\n",
       "0       0.0     1.0    0.0       7C  1251-1500          0.64        3.02   \n",
       "1       0.0     1.0    0.0       3C    251-500          0.64        3.02   \n",
       "2       0.0     1.0    0.0       4C    501-750          0.64        3.02   \n",
       "3       0.0     1.0    0.0       3C    251-500          0.64        3.02   \n",
       "4       1.0     0.0    1.0       5C   751-1000          0.38        1.71   \n",
       "\n",
       "   AvgOfNoCrim N  AvgOfProp N  AvgOfVio N  \n",
       "0           5.77         1.72        1.54  \n",
       "1           5.77         1.72        1.54  \n",
       "2           5.77         1.72        1.54  \n",
       "3           5.77         1.72        1.54  \n",
       "4           2.38         0.98        0.82  "
      ]
     },
     "execution_count": 16,
     "metadata": {},
     "output_type": "execute_result"
    }
   ],
   "source": [
    "bigtwo.head()"
   ]
  },
  {
   "cell_type": "markdown",
   "metadata": {},
   "source": [
    "There might be relevance between the tow big crimes and the Borough that they are commited. \n",
    "___\n",
    "* To figure out relevance, we need to know our Borough values. Let's find the unique values in Borough column by `unique()`function. <br>\n",
    "* Use `unique()` and return the unique values of `Borough` column of `bigtwo`\n"
   ]
  },
  {
   "cell_type": "code",
   "execution_count": 17,
   "metadata": {},
   "outputs": [
    {
     "data": {
      "text/plain": [
       "array(['K', 'O', 'M', 'Q', 'R', 'X'], dtype=object)"
      ]
     },
     "execution_count": 17,
     "metadata": {},
     "output_type": "execute_result"
    }
   ],
   "source": [
    "bigtwo['Borough'].unique()"
   ]
  },
  {
   "cell_type": "markdown",
   "metadata": {},
   "source": [
    "In that case : <br>\n",
    "__M__ represents Manhattan. <br>\n",
    "__Q__ represents Queens. <br>\n",
    "__R__ represents Rikers Island. <br>\n",
    "__K__ represents Brooklyn. <br>\n",
    "__X__ represents The Bronx. <br>\n",
    "__O__ represents Staten Island. <br>"
   ]
  },
  {
   "cell_type": "markdown",
   "metadata": {},
   "source": [
    "* Now, as we know Borough's and their actual names, we can examine the relationship between the bigtwo and Boroughs. We can do this through grouping them by Borough's. In that case, the most handy tool is  `groupby()`function.\n",
    "* Use `groupby()` and group `bigtwo` by it's `Borough`"
   ]
  },
  {
   "cell_type": "code",
   "execution_count": 18,
   "metadata": {
    "scrolled": false
   },
   "outputs": [
    {
     "data": {
      "text/plain": [
       "Borough\n",
       "K    233.0\n",
       "M    161.0\n",
       "O      0.0\n",
       "Q     87.0\n",
       "R     18.0\n",
       "X    201.0\n",
       "Name: Major N, dtype: float64"
      ]
     },
     "execution_count": 18,
     "metadata": {},
     "output_type": "execute_result"
    }
   ],
   "source": [
    "bigtwo.groupby(\"Borough\")[\"Major N\"].sum()"
   ]
  },
  {
   "cell_type": "markdown",
   "metadata": {},
   "source": [
    "* Evaluate the result **with your own words**. Remember, Data Science is all about explaining the story of the data. So, try your best and seeze the story behind the data.."
   ]
  },
  {
   "cell_type": "markdown",
   "metadata": {},
   "source": [
    "Well, it seems that burglary and grand larceny crimes are commited in Brooklyn first place, then the Bronx, then Manhattan. We can say that burglary and grand larceny crimes in NYC Public Schools are not relevant with the wealth because the richest borough of the NYC is Manhattan; and there are more burglary and grand larceny crimes commited in Manhattan than the poorest Borough in NYC, the Bronx.\n",
    "___\n",
    "Hmm, how about adding a new variable in our equasion and looking from different perspective ? <br>\n",
    "Let's examine our big two by the Borough's and the number of students in each schools, a.k.a. `Register` <br>\n",
    "That way, we can evaluate our bigtwo not only with Borough's and the wealth of them, but also with the population's of Borough's and their effects on burglary and grand larceny.\n",
    "___\n"
   ]
  },
  {
   "cell_type": "markdown",
   "metadata": {},
   "source": [
    "Now, we can say that there are much more grand larceny crime is commited than burglary in Manhattan. For other Borough's , everything is pretty much same. "
   ]
  },
  {
   "cell_type": "markdown",
   "metadata": {},
   "source": [
    "### OTHER MAJOR CRIMES"
   ]
  },
  {
   "cell_type": "markdown",
   "metadata": {},
   "source": [
    "Now, it is time to talk about the other major crimes : <br>\n",
    "Grand larceny auto - 2<br>\n",
    "Murder - 3<br>\n",
    "Rape - 4 <br>\n",
    "Robbery - 5<br>\n",
    "Felony - 6<br>\n",
    "Assault - 8<br>\n",
    "___\n",
    "As they did not occur as frequent as the burglary and the grand larceny, their contest is much more serious than bigtwo. Let's create a new dataframe and name it as `othercrimes`:\n",
    "* Hint: You can use the following structure: `df[df[\"Column\"] <= yourfilter]`"
   ]
  },
  {
   "cell_type": "code",
   "execution_count": 19,
   "metadata": {},
   "outputs": [],
   "source": [
    "othercrimes = ss1517[ss1517[\"Major N\"] > 1]"
   ]
  },
  {
   "cell_type": "markdown",
   "metadata": {},
   "source": [
    "Let's examine the other crimes: \n",
    "* Start with `shape`, then proceed with `info()`\n",
    "* You can also print the first five columns for that purpose."
   ]
  },
  {
   "cell_type": "code",
   "execution_count": 20,
   "metadata": {
    "scrolled": true
   },
   "outputs": [
    {
     "data": {
      "text/plain": [
       "(510, 20)"
      ]
     },
     "execution_count": 20,
     "metadata": {},
     "output_type": "execute_result"
    }
   ],
   "source": [
    "othercrimes.shape"
   ]
  },
  {
   "cell_type": "code",
   "execution_count": 34,
   "metadata": {},
   "outputs": [
    {
     "name": "stdout",
     "output_type": "stream",
     "text": [
      "<class 'pandas.core.frame.DataFrame'>\n",
      "Int64Index: 510 entries, 9 to 2031\n",
      "Data columns (total 20 columns):\n",
      " #   Column                      Non-Null Count  Dtype  \n",
      "---  ------                      --------------  -----  \n",
      " 0   Location Name               510 non-null    object \n",
      " 1   Location Code               510 non-null    object \n",
      " 2   Borough                     510 non-null    object \n",
      " 3   Geographical District Code  510 non-null    float64\n",
      " 4   Register                    510 non-null    float64\n",
      " 5   Building Name               510 non-null    object \n",
      " 6   # Schools                   510 non-null    float64\n",
      " 7   Schools in Building         510 non-null    object \n",
      " 8   Major N                     510 non-null    float64\n",
      " 9   Oth N                       510 non-null    float64\n",
      " 10  NoCrim N                    510 non-null    float64\n",
      " 11  Prop N                      510 non-null    float64\n",
      " 12  Vio N                       510 non-null    float64\n",
      " 13  ENGroupA                    510 non-null    object \n",
      " 14  RangeA                      510 non-null    object \n",
      " 15  AvgOfMajor N                510 non-null    float64\n",
      " 16  AvgOfOth N                  510 non-null    float64\n",
      " 17  AvgOfNoCrim N               510 non-null    float64\n",
      " 18  AvgOfProp N                 510 non-null    float64\n",
      " 19  AvgOfVio N                  510 non-null    float64\n",
      "dtypes: float64(13), object(7)\n",
      "memory usage: 83.7+ KB\n"
     ]
    }
   ],
   "source": [
    "othercrimes.info()"
   ]
  },
  {
   "cell_type": "code",
   "execution_count": 21,
   "metadata": {},
   "outputs": [
    {
     "data": {
      "text/html": [
       "<div>\n",
       "<style scoped>\n",
       "    .dataframe tbody tr th:only-of-type {\n",
       "        vertical-align: middle;\n",
       "    }\n",
       "\n",
       "    .dataframe tbody tr th {\n",
       "        vertical-align: top;\n",
       "    }\n",
       "\n",
       "    .dataframe thead th {\n",
       "        text-align: right;\n",
       "    }\n",
       "</style>\n",
       "<table border=\"1\" class=\"dataframe\">\n",
       "  <thead>\n",
       "    <tr style=\"text-align: right;\">\n",
       "      <th></th>\n",
       "      <th>Location Name</th>\n",
       "      <th>Location Code</th>\n",
       "      <th>Borough</th>\n",
       "      <th>Geographical District Code</th>\n",
       "      <th>Register</th>\n",
       "      <th>Building Name</th>\n",
       "      <th># Schools</th>\n",
       "      <th>Schools in Building</th>\n",
       "      <th>Major N</th>\n",
       "      <th>Oth N</th>\n",
       "      <th>NoCrim N</th>\n",
       "      <th>Prop N</th>\n",
       "      <th>Vio N</th>\n",
       "      <th>ENGroupA</th>\n",
       "      <th>RangeA</th>\n",
       "      <th>AvgOfMajor N</th>\n",
       "      <th>AvgOfOth N</th>\n",
       "      <th>AvgOfNoCrim N</th>\n",
       "      <th>AvgOfProp N</th>\n",
       "      <th>AvgOfVio N</th>\n",
       "    </tr>\n",
       "  </thead>\n",
       "  <tbody>\n",
       "    <tr>\n",
       "      <th>9</th>\n",
       "      <td>P.S. 008 Robert Fulton</td>\n",
       "      <td>K008</td>\n",
       "      <td>K</td>\n",
       "      <td>13.0</td>\n",
       "      <td>924.0</td>\n",
       "      <td>655 PARKSIDE AVENUE CONSOLIDATED LOCATION</td>\n",
       "      <td>1.0</td>\n",
       "      <td>P.S. 008 Robert Fulton</td>\n",
       "      <td>3.0</td>\n",
       "      <td>0.0</td>\n",
       "      <td>0.0</td>\n",
       "      <td>3.0</td>\n",
       "      <td>0.0</td>\n",
       "      <td>5C</td>\n",
       "      <td>751-1000</td>\n",
       "      <td>0.38</td>\n",
       "      <td>1.71</td>\n",
       "      <td>2.38</td>\n",
       "      <td>0.98</td>\n",
       "      <td>0.82</td>\n",
       "    </tr>\n",
       "    <tr>\n",
       "      <th>10</th>\n",
       "      <td>P.S. 009 Teunis G. Bergen</td>\n",
       "      <td>K009</td>\n",
       "      <td>K</td>\n",
       "      <td>13.0</td>\n",
       "      <td>838.0</td>\n",
       "      <td>80 UNDERHILL AVENUE CONSOLIDATED LOCATION</td>\n",
       "      <td>2.0</td>\n",
       "      <td>P.S. 009 Teunis G. Bergen|Brooklyn East Colleg...</td>\n",
       "      <td>3.0</td>\n",
       "      <td>0.0</td>\n",
       "      <td>0.0</td>\n",
       "      <td>3.0</td>\n",
       "      <td>0.0</td>\n",
       "      <td>5C</td>\n",
       "      <td>751-1000</td>\n",
       "      <td>0.38</td>\n",
       "      <td>1.71</td>\n",
       "      <td>2.38</td>\n",
       "      <td>0.98</td>\n",
       "      <td>0.82</td>\n",
       "    </tr>\n",
       "    <tr>\n",
       "      <th>11</th>\n",
       "      <td>BROOKLYN EAST COLLEGIATE CHARTER SCHOOL(BN)</td>\n",
       "      <td>K780</td>\n",
       "      <td>K</td>\n",
       "      <td>13.0</td>\n",
       "      <td>388.0</td>\n",
       "      <td>80 UNDERHILL AVENUE CONSOLIDATED LOCATION</td>\n",
       "      <td>2.0</td>\n",
       "      <td>P.S. 009 Teunis G. Bergen|Brooklyn East Colleg...</td>\n",
       "      <td>3.0</td>\n",
       "      <td>0.0</td>\n",
       "      <td>0.0</td>\n",
       "      <td>3.0</td>\n",
       "      <td>0.0</td>\n",
       "      <td>3C</td>\n",
       "      <td>251-500</td>\n",
       "      <td>0.38</td>\n",
       "      <td>1.71</td>\n",
       "      <td>2.38</td>\n",
       "      <td>0.98</td>\n",
       "      <td>0.82</td>\n",
       "    </tr>\n",
       "  </tbody>\n",
       "</table>\n",
       "</div>"
      ],
      "text/plain": [
       "                                  Location Name Location Code Borough  \\\n",
       "9                        P.S. 008 Robert Fulton          K008       K   \n",
       "10                    P.S. 009 Teunis G. Bergen          K009       K   \n",
       "11  BROOKLYN EAST COLLEGIATE CHARTER SCHOOL(BN)          K780       K   \n",
       "\n",
       "    Geographical District Code  Register  \\\n",
       "9                         13.0     924.0   \n",
       "10                        13.0     838.0   \n",
       "11                        13.0     388.0   \n",
       "\n",
       "                                Building Name  # Schools  \\\n",
       "9   655 PARKSIDE AVENUE CONSOLIDATED LOCATION        1.0   \n",
       "10  80 UNDERHILL AVENUE CONSOLIDATED LOCATION        2.0   \n",
       "11  80 UNDERHILL AVENUE CONSOLIDATED LOCATION        2.0   \n",
       "\n",
       "                                  Schools in Building  Major N  Oth N  \\\n",
       "9                              P.S. 008 Robert Fulton      3.0    0.0   \n",
       "10  P.S. 009 Teunis G. Bergen|Brooklyn East Colleg...      3.0    0.0   \n",
       "11  P.S. 009 Teunis G. Bergen|Brooklyn East Colleg...      3.0    0.0   \n",
       "\n",
       "    NoCrim N  Prop N  Vio N ENGroupA    RangeA  AvgOfMajor N  AvgOfOth N  \\\n",
       "9        0.0     3.0    0.0       5C  751-1000          0.38        1.71   \n",
       "10       0.0     3.0    0.0       5C  751-1000          0.38        1.71   \n",
       "11       0.0     3.0    0.0       3C   251-500          0.38        1.71   \n",
       "\n",
       "    AvgOfNoCrim N  AvgOfProp N  AvgOfVio N  \n",
       "9            2.38         0.98        0.82  \n",
       "10           2.38         0.98        0.82  \n",
       "11           2.38         0.98        0.82  "
      ]
     },
     "execution_count": 21,
     "metadata": {},
     "output_type": "execute_result"
    }
   ],
   "source": [
    "othercrimes.head(3)"
   ]
  },
  {
   "cell_type": "markdown",
   "metadata": {},
   "source": [
    "It seems that we won't use some of the columns in our dataset. Let's get rid of them. <br>\n",
    "We can do this by `drop()`function of Pandas. With `drop`we can drop columns.\n",
    "___\n",
    "* After careful review, your team lead thinks that `Location Code` column is unnecessary for our analysis.\n",
    "* Drop the `Location Code` column from `othercrimes` df.\n",
    "* After that, print the first 5 rows to check whether `Location Code` is dropped or not. "
   ]
  },
  {
   "cell_type": "code",
   "execution_count": 22,
   "metadata": {
    "scrolled": true
   },
   "outputs": [
    {
     "data": {
      "text/html": [
       "<div>\n",
       "<style scoped>\n",
       "    .dataframe tbody tr th:only-of-type {\n",
       "        vertical-align: middle;\n",
       "    }\n",
       "\n",
       "    .dataframe tbody tr th {\n",
       "        vertical-align: top;\n",
       "    }\n",
       "\n",
       "    .dataframe thead th {\n",
       "        text-align: right;\n",
       "    }\n",
       "</style>\n",
       "<table border=\"1\" class=\"dataframe\">\n",
       "  <thead>\n",
       "    <tr style=\"text-align: right;\">\n",
       "      <th></th>\n",
       "      <th>Location Name</th>\n",
       "      <th>Borough</th>\n",
       "      <th>Geographical District Code</th>\n",
       "      <th>Register</th>\n",
       "      <th>Building Name</th>\n",
       "      <th># Schools</th>\n",
       "      <th>Schools in Building</th>\n",
       "      <th>Major N</th>\n",
       "      <th>Oth N</th>\n",
       "      <th>NoCrim N</th>\n",
       "      <th>Prop N</th>\n",
       "      <th>Vio N</th>\n",
       "      <th>ENGroupA</th>\n",
       "      <th>RangeA</th>\n",
       "      <th>AvgOfMajor N</th>\n",
       "      <th>AvgOfOth N</th>\n",
       "      <th>AvgOfNoCrim N</th>\n",
       "      <th>AvgOfProp N</th>\n",
       "      <th>AvgOfVio N</th>\n",
       "    </tr>\n",
       "  </thead>\n",
       "  <tbody>\n",
       "    <tr>\n",
       "      <th>9</th>\n",
       "      <td>P.S. 008 Robert Fulton</td>\n",
       "      <td>K</td>\n",
       "      <td>13.0</td>\n",
       "      <td>924.0</td>\n",
       "      <td>655 PARKSIDE AVENUE CONSOLIDATED LOCATION</td>\n",
       "      <td>1.0</td>\n",
       "      <td>P.S. 008 Robert Fulton</td>\n",
       "      <td>3.0</td>\n",
       "      <td>0.0</td>\n",
       "      <td>0.0</td>\n",
       "      <td>3.0</td>\n",
       "      <td>0.0</td>\n",
       "      <td>5C</td>\n",
       "      <td>751-1000</td>\n",
       "      <td>0.38</td>\n",
       "      <td>1.71</td>\n",
       "      <td>2.38</td>\n",
       "      <td>0.98</td>\n",
       "      <td>0.82</td>\n",
       "    </tr>\n",
       "    <tr>\n",
       "      <th>10</th>\n",
       "      <td>P.S. 009 Teunis G. Bergen</td>\n",
       "      <td>K</td>\n",
       "      <td>13.0</td>\n",
       "      <td>838.0</td>\n",
       "      <td>80 UNDERHILL AVENUE CONSOLIDATED LOCATION</td>\n",
       "      <td>2.0</td>\n",
       "      <td>P.S. 009 Teunis G. Bergen|Brooklyn East Colleg...</td>\n",
       "      <td>3.0</td>\n",
       "      <td>0.0</td>\n",
       "      <td>0.0</td>\n",
       "      <td>3.0</td>\n",
       "      <td>0.0</td>\n",
       "      <td>5C</td>\n",
       "      <td>751-1000</td>\n",
       "      <td>0.38</td>\n",
       "      <td>1.71</td>\n",
       "      <td>2.38</td>\n",
       "      <td>0.98</td>\n",
       "      <td>0.82</td>\n",
       "    </tr>\n",
       "    <tr>\n",
       "      <th>11</th>\n",
       "      <td>BROOKLYN EAST COLLEGIATE CHARTER SCHOOL(BN)</td>\n",
       "      <td>K</td>\n",
       "      <td>13.0</td>\n",
       "      <td>388.0</td>\n",
       "      <td>80 UNDERHILL AVENUE CONSOLIDATED LOCATION</td>\n",
       "      <td>2.0</td>\n",
       "      <td>P.S. 009 Teunis G. Bergen|Brooklyn East Colleg...</td>\n",
       "      <td>3.0</td>\n",
       "      <td>0.0</td>\n",
       "      <td>0.0</td>\n",
       "      <td>3.0</td>\n",
       "      <td>0.0</td>\n",
       "      <td>3C</td>\n",
       "      <td>251-500</td>\n",
       "      <td>0.38</td>\n",
       "      <td>1.71</td>\n",
       "      <td>2.38</td>\n",
       "      <td>0.98</td>\n",
       "      <td>0.82</td>\n",
       "    </tr>\n",
       "    <tr>\n",
       "      <th>69</th>\n",
       "      <td>272 MACDONOUGH STREET CONSOLIDATED LOCATION</td>\n",
       "      <td>K</td>\n",
       "      <td>16.0</td>\n",
       "      <td>390.0</td>\n",
       "      <td>272 MACDONOUGH STREET CONSOLIDATED LOCATION</td>\n",
       "      <td>2.0</td>\n",
       "      <td>Brooklyn Brownstone School |  M.S. 035 Stephen...</td>\n",
       "      <td>2.0</td>\n",
       "      <td>0.0</td>\n",
       "      <td>1.0</td>\n",
       "      <td>1.0</td>\n",
       "      <td>1.0</td>\n",
       "      <td>3C</td>\n",
       "      <td>251-500</td>\n",
       "      <td>0.27</td>\n",
       "      <td>0.90</td>\n",
       "      <td>1.67</td>\n",
       "      <td>0.63</td>\n",
       "      <td>0.44</td>\n",
       "    </tr>\n",
       "    <tr>\n",
       "      <th>74</th>\n",
       "      <td>265 RALPH AVENUE CONSOLIDATED LOCATION</td>\n",
       "      <td>K</td>\n",
       "      <td>16.0</td>\n",
       "      <td>493.0</td>\n",
       "      <td>265 RALPH AVENUE CONSOLIDATED LOCATION</td>\n",
       "      <td>2.0</td>\n",
       "      <td>P.S. 040 George W. Carver |  Gotham Profession...</td>\n",
       "      <td>2.0</td>\n",
       "      <td>2.0</td>\n",
       "      <td>1.0</td>\n",
       "      <td>3.0</td>\n",
       "      <td>1.0</td>\n",
       "      <td>3C</td>\n",
       "      <td>251-500</td>\n",
       "      <td>0.27</td>\n",
       "      <td>0.90</td>\n",
       "      <td>1.67</td>\n",
       "      <td>0.63</td>\n",
       "      <td>0.44</td>\n",
       "    </tr>\n",
       "  </tbody>\n",
       "</table>\n",
       "</div>"
      ],
      "text/plain": [
       "                                  Location Name Borough  \\\n",
       "9                        P.S. 008 Robert Fulton       K   \n",
       "10                    P.S. 009 Teunis G. Bergen       K   \n",
       "11  BROOKLYN EAST COLLEGIATE CHARTER SCHOOL(BN)       K   \n",
       "69  272 MACDONOUGH STREET CONSOLIDATED LOCATION       K   \n",
       "74       265 RALPH AVENUE CONSOLIDATED LOCATION       K   \n",
       "\n",
       "    Geographical District Code  Register  \\\n",
       "9                         13.0     924.0   \n",
       "10                        13.0     838.0   \n",
       "11                        13.0     388.0   \n",
       "69                        16.0     390.0   \n",
       "74                        16.0     493.0   \n",
       "\n",
       "                                  Building Name  # Schools  \\\n",
       "9     655 PARKSIDE AVENUE CONSOLIDATED LOCATION        1.0   \n",
       "10    80 UNDERHILL AVENUE CONSOLIDATED LOCATION        2.0   \n",
       "11    80 UNDERHILL AVENUE CONSOLIDATED LOCATION        2.0   \n",
       "69  272 MACDONOUGH STREET CONSOLIDATED LOCATION        2.0   \n",
       "74       265 RALPH AVENUE CONSOLIDATED LOCATION        2.0   \n",
       "\n",
       "                                  Schools in Building  Major N  Oth N  \\\n",
       "9                              P.S. 008 Robert Fulton      3.0    0.0   \n",
       "10  P.S. 009 Teunis G. Bergen|Brooklyn East Colleg...      3.0    0.0   \n",
       "11  P.S. 009 Teunis G. Bergen|Brooklyn East Colleg...      3.0    0.0   \n",
       "69  Brooklyn Brownstone School |  M.S. 035 Stephen...      2.0    0.0   \n",
       "74  P.S. 040 George W. Carver |  Gotham Profession...      2.0    2.0   \n",
       "\n",
       "    NoCrim N  Prop N  Vio N ENGroupA    RangeA  AvgOfMajor N  AvgOfOth N  \\\n",
       "9        0.0     3.0    0.0       5C  751-1000          0.38        1.71   \n",
       "10       0.0     3.0    0.0       5C  751-1000          0.38        1.71   \n",
       "11       0.0     3.0    0.0       3C   251-500          0.38        1.71   \n",
       "69       1.0     1.0    1.0       3C   251-500          0.27        0.90   \n",
       "74       1.0     3.0    1.0       3C   251-500          0.27        0.90   \n",
       "\n",
       "    AvgOfNoCrim N  AvgOfProp N  AvgOfVio N  \n",
       "9            2.38         0.98        0.82  \n",
       "10           2.38         0.98        0.82  \n",
       "11           2.38         0.98        0.82  \n",
       "69           1.67         0.63        0.44  \n",
       "74           1.67         0.63        0.44  "
      ]
     },
     "execution_count": 22,
     "metadata": {},
     "output_type": "execute_result"
    }
   ],
   "source": [
    "othercrimes = othercrimes.drop(\"Location Code\", axis = 1)\n",
    "othercrimes.head()"
   ]
  },
  {
   "cell_type": "markdown",
   "metadata": {},
   "source": [
    "Great ! In order to make smooother analysis, we'll only need 3 columns : <br>\n",
    "`# Schools` : Number of schools in the building. We are going to need this column because different schools means different population categories such as age and culture. Different categories might be the major crimes in school. <br>\n",
    "`EnGroupA`: Building population. <br>\n",
    "`Major N`: Other major crimes."
   ]
  },
  {
   "cell_type": "markdown",
   "metadata": {},
   "source": [
    "To study with only these 3 columns, we need to reshape our df.We can do this by `loc`and `iloc`\n",
    "* Update the `othercrimes` as it has only `# Schools`, `EnGroupA`, and `Major N` columns, nothing more. Use `loc` or `iloc` for this purpose."
   ]
  },
  {
   "cell_type": "code",
   "execution_count": 23,
   "metadata": {},
   "outputs": [],
   "source": [
    "othercrimes = othercrimes.iloc[:,[5,7,12]]"
   ]
  },
  {
   "cell_type": "code",
   "execution_count": 24,
   "metadata": {},
   "outputs": [
    {
     "data": {
      "text/html": [
       "<div>\n",
       "<style scoped>\n",
       "    .dataframe tbody tr th:only-of-type {\n",
       "        vertical-align: middle;\n",
       "    }\n",
       "\n",
       "    .dataframe tbody tr th {\n",
       "        vertical-align: top;\n",
       "    }\n",
       "\n",
       "    .dataframe thead th {\n",
       "        text-align: right;\n",
       "    }\n",
       "</style>\n",
       "<table border=\"1\" class=\"dataframe\">\n",
       "  <thead>\n",
       "    <tr style=\"text-align: right;\">\n",
       "      <th></th>\n",
       "      <th># Schools</th>\n",
       "      <th>Major N</th>\n",
       "      <th>ENGroupA</th>\n",
       "    </tr>\n",
       "  </thead>\n",
       "  <tbody>\n",
       "    <tr>\n",
       "      <th>9</th>\n",
       "      <td>1.0</td>\n",
       "      <td>3.0</td>\n",
       "      <td>5C</td>\n",
       "    </tr>\n",
       "    <tr>\n",
       "      <th>10</th>\n",
       "      <td>2.0</td>\n",
       "      <td>3.0</td>\n",
       "      <td>5C</td>\n",
       "    </tr>\n",
       "    <tr>\n",
       "      <th>11</th>\n",
       "      <td>2.0</td>\n",
       "      <td>3.0</td>\n",
       "      <td>3C</td>\n",
       "    </tr>\n",
       "    <tr>\n",
       "      <th>69</th>\n",
       "      <td>2.0</td>\n",
       "      <td>2.0</td>\n",
       "      <td>3C</td>\n",
       "    </tr>\n",
       "    <tr>\n",
       "      <th>74</th>\n",
       "      <td>2.0</td>\n",
       "      <td>2.0</td>\n",
       "      <td>3C</td>\n",
       "    </tr>\n",
       "  </tbody>\n",
       "</table>\n",
       "</div>"
      ],
      "text/plain": [
       "    # Schools  Major N ENGroupA\n",
       "9         1.0      3.0       5C\n",
       "10        2.0      3.0       5C\n",
       "11        2.0      3.0       3C\n",
       "69        2.0      2.0       3C\n",
       "74        2.0      2.0       3C"
      ]
     },
     "execution_count": 24,
     "metadata": {},
     "output_type": "execute_result"
    }
   ],
   "source": [
    "othercrimes.head()"
   ]
  },
  {
   "cell_type": "markdown",
   "metadata": {},
   "source": [
    "* Let's sort the values by Major N codes to see the relevance better.\n",
    "* Use `sort_values()` for that purpose."
   ]
  },
  {
   "cell_type": "code",
   "execution_count": 25,
   "metadata": {},
   "outputs": [
    {
     "data": {
      "text/html": [
       "<div>\n",
       "<style scoped>\n",
       "    .dataframe tbody tr th:only-of-type {\n",
       "        vertical-align: middle;\n",
       "    }\n",
       "\n",
       "    .dataframe tbody tr th {\n",
       "        vertical-align: top;\n",
       "    }\n",
       "\n",
       "    .dataframe thead th {\n",
       "        text-align: right;\n",
       "    }\n",
       "</style>\n",
       "<table border=\"1\" class=\"dataframe\">\n",
       "  <thead>\n",
       "    <tr style=\"text-align: right;\">\n",
       "      <th></th>\n",
       "      <th># Schools</th>\n",
       "      <th>Major N</th>\n",
       "      <th>ENGroupA</th>\n",
       "    </tr>\n",
       "  </thead>\n",
       "  <tbody>\n",
       "    <tr>\n",
       "      <th>1949</th>\n",
       "      <td>6.0</td>\n",
       "      <td>2.0</td>\n",
       "      <td>10C</td>\n",
       "    </tr>\n",
       "    <tr>\n",
       "      <th>258</th>\n",
       "      <td>2.0</td>\n",
       "      <td>2.0</td>\n",
       "      <td>4C</td>\n",
       "    </tr>\n",
       "    <tr>\n",
       "      <th>257</th>\n",
       "      <td>2.0</td>\n",
       "      <td>2.0</td>\n",
       "      <td>9C</td>\n",
       "    </tr>\n",
       "  </tbody>\n",
       "</table>\n",
       "</div>"
      ],
      "text/plain": [
       "      # Schools  Major N ENGroupA\n",
       "1949        6.0      2.0      10C\n",
       "258         2.0      2.0       4C\n",
       "257         2.0      2.0       9C"
      ]
     },
     "execution_count": 25,
     "metadata": {},
     "output_type": "execute_result"
    }
   ],
   "source": [
    "othercrimes = othercrimes.sort_values(by = \"Major N\")\n",
    "othercrimes.head(3)"
   ]
  },
  {
   "cell_type": "markdown",
   "metadata": {},
   "source": [
    "* Great! To see the effects of Building Population and Number of Other Schools in the Building on Other Major Crimes, let's pivot it. We can pivot it by `pivot_table`function of pandas.\n",
    "* Use `pivot_table` as follows:\n",
    "    * For index, use `EnGroupA`,\n",
    "    * For columns, use `# Schools`\n",
    "    * For values, use `Major N`"
   ]
  },
  {
   "cell_type": "code",
   "execution_count": 26,
   "metadata": {
    "scrolled": true
   },
   "outputs": [
    {
     "data": {
      "text/html": [
       "<div>\n",
       "<style scoped>\n",
       "    .dataframe tbody tr th:only-of-type {\n",
       "        vertical-align: middle;\n",
       "    }\n",
       "\n",
       "    .dataframe tbody tr th {\n",
       "        vertical-align: top;\n",
       "    }\n",
       "\n",
       "    .dataframe thead th {\n",
       "        text-align: right;\n",
       "    }\n",
       "</style>\n",
       "<table border=\"1\" class=\"dataframe\">\n",
       "  <thead>\n",
       "    <tr style=\"text-align: right;\">\n",
       "      <th># Schools</th>\n",
       "      <th>1.0</th>\n",
       "      <th>2.0</th>\n",
       "      <th>3.0</th>\n",
       "      <th>4.0</th>\n",
       "      <th>5.0</th>\n",
       "      <th>6.0</th>\n",
       "      <th>7.0</th>\n",
       "      <th>8.0</th>\n",
       "    </tr>\n",
       "    <tr>\n",
       "      <th>ENGroupA</th>\n",
       "      <th></th>\n",
       "      <th></th>\n",
       "      <th></th>\n",
       "      <th></th>\n",
       "      <th></th>\n",
       "      <th></th>\n",
       "      <th></th>\n",
       "      <th></th>\n",
       "    </tr>\n",
       "  </thead>\n",
       "  <tbody>\n",
       "    <tr>\n",
       "      <th>10C</th>\n",
       "      <td>2.200000</td>\n",
       "      <td>3.166667</td>\n",
       "      <td>4.500000</td>\n",
       "      <td>2.250000</td>\n",
       "      <td>2.000000</td>\n",
       "      <td>2.428571</td>\n",
       "      <td>5.000000</td>\n",
       "      <td>4.0</td>\n",
       "    </tr>\n",
       "    <tr>\n",
       "      <th>11C</th>\n",
       "      <td>2.000000</td>\n",
       "      <td>5.000000</td>\n",
       "      <td>NaN</td>\n",
       "      <td>NaN</td>\n",
       "      <td>4.000000</td>\n",
       "      <td>3.500000</td>\n",
       "      <td>3.200000</td>\n",
       "      <td>NaN</td>\n",
       "    </tr>\n",
       "    <tr>\n",
       "      <th>12C</th>\n",
       "      <td>2.818182</td>\n",
       "      <td>3.000000</td>\n",
       "      <td>NaN</td>\n",
       "      <td>NaN</td>\n",
       "      <td>NaN</td>\n",
       "      <td>NaN</td>\n",
       "      <td>3.500000</td>\n",
       "      <td>NaN</td>\n",
       "    </tr>\n",
       "    <tr>\n",
       "      <th>13C</th>\n",
       "      <td>2.750000</td>\n",
       "      <td>3.000000</td>\n",
       "      <td>NaN</td>\n",
       "      <td>NaN</td>\n",
       "      <td>NaN</td>\n",
       "      <td>NaN</td>\n",
       "      <td>NaN</td>\n",
       "      <td>NaN</td>\n",
       "    </tr>\n",
       "    <tr>\n",
       "      <th>2C</th>\n",
       "      <td>2.333333</td>\n",
       "      <td>2.304348</td>\n",
       "      <td>3.117647</td>\n",
       "      <td>4.500000</td>\n",
       "      <td>3.142857</td>\n",
       "      <td>3.000000</td>\n",
       "      <td>2.000000</td>\n",
       "      <td>NaN</td>\n",
       "    </tr>\n",
       "    <tr>\n",
       "      <th>3C</th>\n",
       "      <td>2.200000</td>\n",
       "      <td>2.418605</td>\n",
       "      <td>2.729730</td>\n",
       "      <td>3.666667</td>\n",
       "      <td>2.619048</td>\n",
       "      <td>3.454545</td>\n",
       "      <td>2.263158</td>\n",
       "      <td>NaN</td>\n",
       "    </tr>\n",
       "    <tr>\n",
       "      <th>4C</th>\n",
       "      <td>2.333333</td>\n",
       "      <td>2.470588</td>\n",
       "      <td>2.400000</td>\n",
       "      <td>3.000000</td>\n",
       "      <td>3.000000</td>\n",
       "      <td>3.666667</td>\n",
       "      <td>2.500000</td>\n",
       "      <td>NaN</td>\n",
       "    </tr>\n",
       "    <tr>\n",
       "      <th>5C</th>\n",
       "      <td>2.333333</td>\n",
       "      <td>2.266667</td>\n",
       "      <td>2.666667</td>\n",
       "      <td>2.666667</td>\n",
       "      <td>2.000000</td>\n",
       "      <td>NaN</td>\n",
       "      <td>NaN</td>\n",
       "      <td>NaN</td>\n",
       "    </tr>\n",
       "    <tr>\n",
       "      <th>6C</th>\n",
       "      <td>2.666667</td>\n",
       "      <td>2.416667</td>\n",
       "      <td>2.315789</td>\n",
       "      <td>2.000000</td>\n",
       "      <td>NaN</td>\n",
       "      <td>NaN</td>\n",
       "      <td>3.000000</td>\n",
       "      <td>NaN</td>\n",
       "    </tr>\n",
       "    <tr>\n",
       "      <th>7C</th>\n",
       "      <td>2.600000</td>\n",
       "      <td>2.333333</td>\n",
       "      <td>2.800000</td>\n",
       "      <td>3.428571</td>\n",
       "      <td>3.500000</td>\n",
       "      <td>2.333333</td>\n",
       "      <td>NaN</td>\n",
       "      <td>NaN</td>\n",
       "    </tr>\n",
       "    <tr>\n",
       "      <th>8C</th>\n",
       "      <td>2.500000</td>\n",
       "      <td>2.666667</td>\n",
       "      <td>4.000000</td>\n",
       "      <td>3.142857</td>\n",
       "      <td>NaN</td>\n",
       "      <td>NaN</td>\n",
       "      <td>NaN</td>\n",
       "      <td>NaN</td>\n",
       "    </tr>\n",
       "    <tr>\n",
       "      <th>9C</th>\n",
       "      <td>2.000000</td>\n",
       "      <td>2.400000</td>\n",
       "      <td>3.000000</td>\n",
       "      <td>3.000000</td>\n",
       "      <td>2.800000</td>\n",
       "      <td>3.000000</td>\n",
       "      <td>NaN</td>\n",
       "      <td>NaN</td>\n",
       "    </tr>\n",
       "  </tbody>\n",
       "</table>\n",
       "</div>"
      ],
      "text/plain": [
       "# Schools       1.0       2.0       3.0       4.0       5.0       6.0  \\\n",
       "ENGroupA                                                                \n",
       "10C        2.200000  3.166667  4.500000  2.250000  2.000000  2.428571   \n",
       "11C        2.000000  5.000000       NaN       NaN  4.000000  3.500000   \n",
       "12C        2.818182  3.000000       NaN       NaN       NaN       NaN   \n",
       "13C        2.750000  3.000000       NaN       NaN       NaN       NaN   \n",
       "2C         2.333333  2.304348  3.117647  4.500000  3.142857  3.000000   \n",
       "3C         2.200000  2.418605  2.729730  3.666667  2.619048  3.454545   \n",
       "4C         2.333333  2.470588  2.400000  3.000000  3.000000  3.666667   \n",
       "5C         2.333333  2.266667  2.666667  2.666667  2.000000       NaN   \n",
       "6C         2.666667  2.416667  2.315789  2.000000       NaN       NaN   \n",
       "7C         2.600000  2.333333  2.800000  3.428571  3.500000  2.333333   \n",
       "8C         2.500000  2.666667  4.000000  3.142857       NaN       NaN   \n",
       "9C         2.000000  2.400000  3.000000  3.000000  2.800000  3.000000   \n",
       "\n",
       "# Schools       7.0  8.0  \n",
       "ENGroupA                  \n",
       "10C        5.000000  4.0  \n",
       "11C        3.200000  NaN  \n",
       "12C        3.500000  NaN  \n",
       "13C             NaN  NaN  \n",
       "2C         2.000000  NaN  \n",
       "3C         2.263158  NaN  \n",
       "4C         2.500000  NaN  \n",
       "5C              NaN  NaN  \n",
       "6C         3.000000  NaN  \n",
       "7C              NaN  NaN  \n",
       "8C              NaN  NaN  \n",
       "9C              NaN  NaN  "
      ]
     },
     "execution_count": 26,
     "metadata": {},
     "output_type": "execute_result"
    }
   ],
   "source": [
    "pivot_table = othercrimes.pivot_table(index=[\"ENGroupA\"],\n",
    "                                     columns=\"# Schools\", \n",
    "                                     values='Major N')\n",
    "pivot_table"
   ]
  },
  {
   "cell_type": "markdown",
   "metadata": {},
   "source": [
    "We have Na values, again.. Replace them as we did earlier, with `bfill`and `ffill`parameters of `pd.fillna()`"
   ]
  },
  {
   "cell_type": "code",
   "execution_count": 27,
   "metadata": {},
   "outputs": [],
   "source": [
    "pivot_table = pivot_table.fillna(method = 'bfill')"
   ]
  },
  {
   "cell_type": "code",
   "execution_count": 28,
   "metadata": {},
   "outputs": [],
   "source": [
    "pivot_table = pivot_table.fillna(method = 'ffill')"
   ]
  },
  {
   "cell_type": "code",
   "execution_count": 29,
   "metadata": {
    "scrolled": true
   },
   "outputs": [
    {
     "data": {
      "text/plain": [
       "False"
      ]
     },
     "execution_count": 29,
     "metadata": {},
     "output_type": "execute_result"
    }
   ],
   "source": [
    "pivot_table.isnull().values.any()"
   ]
  },
  {
   "cell_type": "markdown",
   "metadata": {},
   "source": [
    "Print the first 10 columns of `"
   ]
  },
  {
   "cell_type": "code",
   "execution_count": 30,
   "metadata": {
    "scrolled": true
   },
   "outputs": [
    {
     "data": {
      "text/html": [
       "<div>\n",
       "<style scoped>\n",
       "    .dataframe tbody tr th:only-of-type {\n",
       "        vertical-align: middle;\n",
       "    }\n",
       "\n",
       "    .dataframe tbody tr th {\n",
       "        vertical-align: top;\n",
       "    }\n",
       "\n",
       "    .dataframe thead th {\n",
       "        text-align: right;\n",
       "    }\n",
       "</style>\n",
       "<table border=\"1\" class=\"dataframe\">\n",
       "  <thead>\n",
       "    <tr style=\"text-align: right;\">\n",
       "      <th># Schools</th>\n",
       "      <th>1.0</th>\n",
       "      <th>2.0</th>\n",
       "      <th>3.0</th>\n",
       "      <th>4.0</th>\n",
       "      <th>5.0</th>\n",
       "      <th>6.0</th>\n",
       "      <th>7.0</th>\n",
       "      <th>8.0</th>\n",
       "    </tr>\n",
       "    <tr>\n",
       "      <th>ENGroupA</th>\n",
       "      <th></th>\n",
       "      <th></th>\n",
       "      <th></th>\n",
       "      <th></th>\n",
       "      <th></th>\n",
       "      <th></th>\n",
       "      <th></th>\n",
       "      <th></th>\n",
       "    </tr>\n",
       "  </thead>\n",
       "  <tbody>\n",
       "    <tr>\n",
       "      <th>10C</th>\n",
       "      <td>2.200000</td>\n",
       "      <td>3.166667</td>\n",
       "      <td>4.500000</td>\n",
       "      <td>2.250000</td>\n",
       "      <td>2.000000</td>\n",
       "      <td>2.428571</td>\n",
       "      <td>5.000000</td>\n",
       "      <td>4.0</td>\n",
       "    </tr>\n",
       "    <tr>\n",
       "      <th>11C</th>\n",
       "      <td>2.000000</td>\n",
       "      <td>5.000000</td>\n",
       "      <td>3.117647</td>\n",
       "      <td>4.500000</td>\n",
       "      <td>4.000000</td>\n",
       "      <td>3.500000</td>\n",
       "      <td>3.200000</td>\n",
       "      <td>4.0</td>\n",
       "    </tr>\n",
       "    <tr>\n",
       "      <th>12C</th>\n",
       "      <td>2.818182</td>\n",
       "      <td>3.000000</td>\n",
       "      <td>3.117647</td>\n",
       "      <td>4.500000</td>\n",
       "      <td>3.142857</td>\n",
       "      <td>3.000000</td>\n",
       "      <td>3.500000</td>\n",
       "      <td>4.0</td>\n",
       "    </tr>\n",
       "    <tr>\n",
       "      <th>13C</th>\n",
       "      <td>2.750000</td>\n",
       "      <td>3.000000</td>\n",
       "      <td>3.117647</td>\n",
       "      <td>4.500000</td>\n",
       "      <td>3.142857</td>\n",
       "      <td>3.000000</td>\n",
       "      <td>2.000000</td>\n",
       "      <td>4.0</td>\n",
       "    </tr>\n",
       "    <tr>\n",
       "      <th>2C</th>\n",
       "      <td>2.333333</td>\n",
       "      <td>2.304348</td>\n",
       "      <td>3.117647</td>\n",
       "      <td>4.500000</td>\n",
       "      <td>3.142857</td>\n",
       "      <td>3.000000</td>\n",
       "      <td>2.000000</td>\n",
       "      <td>4.0</td>\n",
       "    </tr>\n",
       "    <tr>\n",
       "      <th>3C</th>\n",
       "      <td>2.200000</td>\n",
       "      <td>2.418605</td>\n",
       "      <td>2.729730</td>\n",
       "      <td>3.666667</td>\n",
       "      <td>2.619048</td>\n",
       "      <td>3.454545</td>\n",
       "      <td>2.263158</td>\n",
       "      <td>4.0</td>\n",
       "    </tr>\n",
       "    <tr>\n",
       "      <th>4C</th>\n",
       "      <td>2.333333</td>\n",
       "      <td>2.470588</td>\n",
       "      <td>2.400000</td>\n",
       "      <td>3.000000</td>\n",
       "      <td>3.000000</td>\n",
       "      <td>3.666667</td>\n",
       "      <td>2.500000</td>\n",
       "      <td>4.0</td>\n",
       "    </tr>\n",
       "    <tr>\n",
       "      <th>5C</th>\n",
       "      <td>2.333333</td>\n",
       "      <td>2.266667</td>\n",
       "      <td>2.666667</td>\n",
       "      <td>2.666667</td>\n",
       "      <td>2.000000</td>\n",
       "      <td>2.333333</td>\n",
       "      <td>3.000000</td>\n",
       "      <td>4.0</td>\n",
       "    </tr>\n",
       "    <tr>\n",
       "      <th>6C</th>\n",
       "      <td>2.666667</td>\n",
       "      <td>2.416667</td>\n",
       "      <td>2.315789</td>\n",
       "      <td>2.000000</td>\n",
       "      <td>3.500000</td>\n",
       "      <td>2.333333</td>\n",
       "      <td>3.000000</td>\n",
       "      <td>4.0</td>\n",
       "    </tr>\n",
       "    <tr>\n",
       "      <th>7C</th>\n",
       "      <td>2.600000</td>\n",
       "      <td>2.333333</td>\n",
       "      <td>2.800000</td>\n",
       "      <td>3.428571</td>\n",
       "      <td>3.500000</td>\n",
       "      <td>2.333333</td>\n",
       "      <td>3.000000</td>\n",
       "      <td>4.0</td>\n",
       "    </tr>\n",
       "  </tbody>\n",
       "</table>\n",
       "</div>"
      ],
      "text/plain": [
       "# Schools       1.0       2.0       3.0       4.0       5.0       6.0  \\\n",
       "ENGroupA                                                                \n",
       "10C        2.200000  3.166667  4.500000  2.250000  2.000000  2.428571   \n",
       "11C        2.000000  5.000000  3.117647  4.500000  4.000000  3.500000   \n",
       "12C        2.818182  3.000000  3.117647  4.500000  3.142857  3.000000   \n",
       "13C        2.750000  3.000000  3.117647  4.500000  3.142857  3.000000   \n",
       "2C         2.333333  2.304348  3.117647  4.500000  3.142857  3.000000   \n",
       "3C         2.200000  2.418605  2.729730  3.666667  2.619048  3.454545   \n",
       "4C         2.333333  2.470588  2.400000  3.000000  3.000000  3.666667   \n",
       "5C         2.333333  2.266667  2.666667  2.666667  2.000000  2.333333   \n",
       "6C         2.666667  2.416667  2.315789  2.000000  3.500000  2.333333   \n",
       "7C         2.600000  2.333333  2.800000  3.428571  3.500000  2.333333   \n",
       "\n",
       "# Schools       7.0  8.0  \n",
       "ENGroupA                  \n",
       "10C        5.000000  4.0  \n",
       "11C        3.200000  4.0  \n",
       "12C        3.500000  4.0  \n",
       "13C        2.000000  4.0  \n",
       "2C         2.000000  4.0  \n",
       "3C         2.263158  4.0  \n",
       "4C         2.500000  4.0  \n",
       "5C         3.000000  4.0  \n",
       "6C         3.000000  4.0  \n",
       "7C         3.000000  4.0  "
      ]
     },
     "execution_count": 30,
     "metadata": {},
     "output_type": "execute_result"
    }
   ],
   "source": [
    "pivot_table.head(10)"
   ]
  },
  {
   "cell_type": "markdown",
   "metadata": {},
   "source": [
    "Great ! In order to make smooother analysis, we'll only need 3 columns : <br>\n",
    "`# Schools` : Number of schools in the building. We are going to need this column because different schools means different population categories such as age and culture. Different categories might be the major crimes in school. <br>\n",
    "`EnGroupA`: Building population. <br>\n",
    "`Major N`: Other major crimes."
   ]
  },
  {
   "cell_type": "markdown",
   "metadata": {},
   "source": [
    "It seems that our pivot will be useful if we want to look the direct relationship, but it is also not easy to understand. Let's keep it simple for everyone, and use scatter plot. <br>\n",
    "Let's examine the effects of number of schools in the building and building population on other major crimes. In that case, scatter plot serves our purpose best because we are trying to show the relationship between two variables and effect of these two on third variable, other major crimes."
   ]
  },
  {
   "cell_type": "markdown",
   "metadata": {},
   "source": [
    "Well, let's see.. Major crime number 6(felony) is very dense in the buildings with 3 schools. There is also a linear relationship between the building population and major crime kind in the buildings with 1 school. "
   ]
  }
 ],
 "metadata": {
  "kernelspec": {
   "display_name": "Python 3 (ipykernel)",
   "language": "python",
   "name": "python3"
  },
  "language_info": {
   "codemirror_mode": {
    "name": "ipython",
    "version": 3
   },
   "file_extension": ".py",
   "mimetype": "text/x-python",
   "name": "python",
   "nbconvert_exporter": "python",
   "pygments_lexer": "ipython3",
   "version": "3.9.7"
  }
 },
 "nbformat": 4,
 "nbformat_minor": 4
}
