{
 "cells": [
  {
   "cell_type": "markdown",
   "id": "ac1bb28d",
   "metadata": {},
   "source": [
    "\n",
    "# Linear Regression for IBM Stock Price Data\n",
    "![image](data:image/jpeg;base64,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)"
   ]
  },
  {
   "cell_type": "markdown",
   "id": "987b1a3b",
   "metadata": {},
   "source": [
    "* In this repo, you'll apply Linear Regression to IBM Stock Price Data(1962-Present) for Closing Prices from yfinance library of Python. \n",
    "As evaluation metric, you'll prefer the Root Mean Square Error. "
   ]
  },
  {
   "cell_type": "markdown",
   "id": "feebd53c",
   "metadata": {},
   "source": [
    "#### Downloading yfinance\n",
    "* Yfinance is a python package that enables us to fetch historical market data from Yahoo Finance API in a Pythonic way. "
   ]
  },
  {
   "cell_type": "code",
   "execution_count": 2,
   "id": "36220169",
   "metadata": {},
   "outputs": [
    {
     "name": "stdout",
     "output_type": "stream",
     "text": [
      "Collecting yfinance\n",
      "  Downloading yfinance-0.1.70-py2.py3-none-any.whl (26 kB)\n",
      "Requirement already satisfied: pandas>=0.24.0 in c:\\users\\talfi\\anaconda3\\lib\\site-packages (from yfinance) (1.3.4)\n",
      "Collecting multitasking>=0.0.7\n",
      "  Downloading multitasking-0.0.10.tar.gz (8.2 kB)\n",
      "Requirement already satisfied: numpy>=1.15 in c:\\users\\talfi\\anaconda3\\lib\\site-packages (from yfinance) (1.20.3)\n",
      "Requirement already satisfied: requests>=2.26 in c:\\users\\talfi\\anaconda3\\lib\\site-packages (from yfinance) (2.26.0)\n",
      "Requirement already satisfied: lxml>=4.5.1 in c:\\users\\talfi\\anaconda3\\lib\\site-packages (from yfinance) (4.6.3)\n",
      "Requirement already satisfied: pytz>=2017.3 in c:\\users\\talfi\\anaconda3\\lib\\site-packages (from pandas>=0.24.0->yfinance) (2021.3)\n",
      "Requirement already satisfied: python-dateutil>=2.7.3 in c:\\users\\talfi\\anaconda3\\lib\\site-packages (from pandas>=0.24.0->yfinance) (2.8.2)\n",
      "Requirement already satisfied: six>=1.5 in c:\\users\\talfi\\anaconda3\\lib\\site-packages (from python-dateutil>=2.7.3->pandas>=0.24.0->yfinance) (1.16.0)\n",
      "Requirement already satisfied: charset-normalizer~=2.0.0 in c:\\users\\talfi\\anaconda3\\lib\\site-packages (from requests>=2.26->yfinance) (2.0.4)\n",
      "Requirement already satisfied: certifi>=2017.4.17 in c:\\users\\talfi\\anaconda3\\lib\\site-packages (from requests>=2.26->yfinance) (2021.10.8)\n",
      "Requirement already satisfied: idna<4,>=2.5 in c:\\users\\talfi\\anaconda3\\lib\\site-packages (from requests>=2.26->yfinance) (3.2)\n",
      "Requirement already satisfied: urllib3<1.27,>=1.21.1 in c:\\users\\talfi\\anaconda3\\lib\\site-packages (from requests>=2.26->yfinance) (1.26.7)\n",
      "Building wheels for collected packages: multitasking\n",
      "  Building wheel for multitasking (setup.py): started\n",
      "  Building wheel for multitasking (setup.py): finished with status 'done'\n",
      "  Created wheel for multitasking: filename=multitasking-0.0.10-py3-none-any.whl size=8500 sha256=40f3a02ea2053257e7013595c4ec2021b17fcb0a98ab4b60e273dc2b69783826\n",
      "  Stored in directory: c:\\users\\talfi\\appdata\\local\\pip\\cache\\wheels\\f2\\b5\\2c\\59ba95dcf854e542944c75fe3da584e4e3833b319735a0546c\n",
      "Successfully built multitasking\n",
      "Installing collected packages: multitasking, yfinance\n",
      "Successfully installed multitasking-0.0.10 yfinance-0.1.70\n"
     ]
    }
   ],
   "source": [
    "# downloading yfinance\n",
    "! pip3 install yfinance"
   ]
  },
  {
   "cell_type": "markdown",
   "id": "2eccd243",
   "metadata": {},
   "source": [
    "#### Importing Data from yfinance library"
   ]
  },
  {
   "cell_type": "code",
   "execution_count": 1,
   "id": "69c246e3",
   "metadata": {},
   "outputs": [],
   "source": [
    "import pandas as pd\n",
    "import yfinance as yf\n",
    "import numpy as np\n",
    "import matplotlib.pyplot as plt"
   ]
  },
  {
   "cell_type": "code",
   "execution_count": 23,
   "id": "e929d580",
   "metadata": {
    "scrolled": true
   },
   "outputs": [
    {
     "name": "stdout",
     "output_type": "stream",
     "text": [
      "[*********************100%***********************]  1 of 1 completed\n"
     ]
    },
    {
     "data": {
      "text/plain": [
       "(2388, 6)"
      ]
     },
     "execution_count": 23,
     "metadata": {},
     "output_type": "execute_result"
    }
   ],
   "source": [
    "# To download a data from yfinance, you should use yf.download(\"Objective\")\n",
    "ibm = yf.download(\"MFST\")\n",
    "ibm.shape"
   ]
  },
  {
   "cell_type": "markdown",
   "id": "59e87e2b",
   "metadata": {},
   "source": [
    "#### Inspecting Data\n",
    "* Print the first 5 rows of the data."
   ]
  },
  {
   "cell_type": "code",
   "execution_count": 25,
   "id": "ff74b446",
   "metadata": {
    "scrolled": false
   },
   "outputs": [
    {
     "data": {
      "text/html": [
       "<div>\n",
       "<style scoped>\n",
       "    .dataframe tbody tr th:only-of-type {\n",
       "        vertical-align: middle;\n",
       "    }\n",
       "\n",
       "    .dataframe tbody tr th {\n",
       "        vertical-align: top;\n",
       "    }\n",
       "\n",
       "    .dataframe thead th {\n",
       "        text-align: right;\n",
       "    }\n",
       "</style>\n",
       "<table border=\"1\" class=\"dataframe\">\n",
       "  <thead>\n",
       "    <tr style=\"text-align: right;\">\n",
       "      <th></th>\n",
       "      <th>Date</th>\n",
       "      <th>Open</th>\n",
       "      <th>High</th>\n",
       "      <th>Low</th>\n",
       "      <th>Close</th>\n",
       "      <th>Adj Close</th>\n",
       "      <th>Volume</th>\n",
       "    </tr>\n",
       "  </thead>\n",
       "  <tbody>\n",
       "    <tr>\n",
       "      <th>0</th>\n",
       "      <td>2012-10-03</td>\n",
       "      <td>1050.0</td>\n",
       "      <td>1400.0</td>\n",
       "      <td>1050.0</td>\n",
       "      <td>1400.0</td>\n",
       "      <td>1400.0</td>\n",
       "      <td>2</td>\n",
       "    </tr>\n",
       "    <tr>\n",
       "      <th>1</th>\n",
       "      <td>2012-10-04</td>\n",
       "      <td>1400.0</td>\n",
       "      <td>1400.0</td>\n",
       "      <td>1400.0</td>\n",
       "      <td>1400.0</td>\n",
       "      <td>1400.0</td>\n",
       "      <td>0</td>\n",
       "    </tr>\n",
       "    <tr>\n",
       "      <th>2</th>\n",
       "      <td>2012-10-05</td>\n",
       "      <td>1400.0</td>\n",
       "      <td>1400.0</td>\n",
       "      <td>1400.0</td>\n",
       "      <td>1400.0</td>\n",
       "      <td>1400.0</td>\n",
       "      <td>0</td>\n",
       "    </tr>\n",
       "    <tr>\n",
       "      <th>3</th>\n",
       "      <td>2012-10-08</td>\n",
       "      <td>1400.0</td>\n",
       "      <td>1400.0</td>\n",
       "      <td>1400.0</td>\n",
       "      <td>1400.0</td>\n",
       "      <td>1400.0</td>\n",
       "      <td>0</td>\n",
       "    </tr>\n",
       "    <tr>\n",
       "      <th>4</th>\n",
       "      <td>2012-10-09</td>\n",
       "      <td>1400.0</td>\n",
       "      <td>1400.0</td>\n",
       "      <td>1400.0</td>\n",
       "      <td>1400.0</td>\n",
       "      <td>1400.0</td>\n",
       "      <td>0</td>\n",
       "    </tr>\n",
       "  </tbody>\n",
       "</table>\n",
       "</div>"
      ],
      "text/plain": [
       "        Date    Open    High     Low   Close  Adj Close  Volume\n",
       "0 2012-10-03  1050.0  1400.0  1050.0  1400.0     1400.0       2\n",
       "1 2012-10-04  1400.0  1400.0  1400.0  1400.0     1400.0       0\n",
       "2 2012-10-05  1400.0  1400.0  1400.0  1400.0     1400.0       0\n",
       "3 2012-10-08  1400.0  1400.0  1400.0  1400.0     1400.0       0\n",
       "4 2012-10-09  1400.0  1400.0  1400.0  1400.0     1400.0       0"
      ]
     },
     "execution_count": 25,
     "metadata": {},
     "output_type": "execute_result"
    }
   ],
   "source": [
    "ibm = ibm.reset_index() # If you receive any error, comment out this line.\n",
    "ibm.head()"
   ]
  },
  {
   "cell_type": "markdown",
   "id": "90e2226c",
   "metadata": {},
   "source": [
    "* Set the index with `ibm.reset_index()` . Set `inplace` parameter to `true`\n",
    "* After that, print first 5 rows one more time."
   ]
  },
  {
   "cell_type": "code",
   "execution_count": 26,
   "id": "764d2d7b",
   "metadata": {},
   "outputs": [
    {
     "data": {
      "text/html": [
       "<div>\n",
       "<style scoped>\n",
       "    .dataframe tbody tr th:only-of-type {\n",
       "        vertical-align: middle;\n",
       "    }\n",
       "\n",
       "    .dataframe tbody tr th {\n",
       "        vertical-align: top;\n",
       "    }\n",
       "\n",
       "    .dataframe thead th {\n",
       "        text-align: right;\n",
       "    }\n",
       "</style>\n",
       "<table border=\"1\" class=\"dataframe\">\n",
       "  <thead>\n",
       "    <tr style=\"text-align: right;\">\n",
       "      <th></th>\n",
       "      <th>Date</th>\n",
       "      <th>Open</th>\n",
       "      <th>High</th>\n",
       "      <th>Low</th>\n",
       "      <th>Close</th>\n",
       "      <th>Adj Close</th>\n",
       "      <th>Volume</th>\n",
       "    </tr>\n",
       "  </thead>\n",
       "  <tbody>\n",
       "    <tr>\n",
       "      <th>0</th>\n",
       "      <td>2012-10-03</td>\n",
       "      <td>1050.0</td>\n",
       "      <td>1400.0</td>\n",
       "      <td>1050.0</td>\n",
       "      <td>1400.0</td>\n",
       "      <td>1400.0</td>\n",
       "      <td>2</td>\n",
       "    </tr>\n",
       "    <tr>\n",
       "      <th>1</th>\n",
       "      <td>2012-10-04</td>\n",
       "      <td>1400.0</td>\n",
       "      <td>1400.0</td>\n",
       "      <td>1400.0</td>\n",
       "      <td>1400.0</td>\n",
       "      <td>1400.0</td>\n",
       "      <td>0</td>\n",
       "    </tr>\n",
       "    <tr>\n",
       "      <th>2</th>\n",
       "      <td>2012-10-05</td>\n",
       "      <td>1400.0</td>\n",
       "      <td>1400.0</td>\n",
       "      <td>1400.0</td>\n",
       "      <td>1400.0</td>\n",
       "      <td>1400.0</td>\n",
       "      <td>0</td>\n",
       "    </tr>\n",
       "    <tr>\n",
       "      <th>3</th>\n",
       "      <td>2012-10-08</td>\n",
       "      <td>1400.0</td>\n",
       "      <td>1400.0</td>\n",
       "      <td>1400.0</td>\n",
       "      <td>1400.0</td>\n",
       "      <td>1400.0</td>\n",
       "      <td>0</td>\n",
       "    </tr>\n",
       "    <tr>\n",
       "      <th>4</th>\n",
       "      <td>2012-10-09</td>\n",
       "      <td>1400.0</td>\n",
       "      <td>1400.0</td>\n",
       "      <td>1400.0</td>\n",
       "      <td>1400.0</td>\n",
       "      <td>1400.0</td>\n",
       "      <td>0</td>\n",
       "    </tr>\n",
       "  </tbody>\n",
       "</table>\n",
       "</div>"
      ],
      "text/plain": [
       "        Date    Open    High     Low   Close  Adj Close  Volume\n",
       "0 2012-10-03  1050.0  1400.0  1050.0  1400.0     1400.0       2\n",
       "1 2012-10-04  1400.0  1400.0  1400.0  1400.0     1400.0       0\n",
       "2 2012-10-05  1400.0  1400.0  1400.0  1400.0     1400.0       0\n",
       "3 2012-10-08  1400.0  1400.0  1400.0  1400.0     1400.0       0\n",
       "4 2012-10-09  1400.0  1400.0  1400.0  1400.0     1400.0       0"
      ]
     },
     "execution_count": 26,
     "metadata": {},
     "output_type": "execute_result"
    }
   ],
   "source": [
    "ibm.head()"
   ]
  },
  {
   "cell_type": "markdown",
   "id": "b5771d4a",
   "metadata": {},
   "source": [
    "* Open: Opening price for the spesific timeline\n",
    "* High: Highest price for the spesific timeline\n",
    "* Low: Lowest price for the spesific timeline\n",
    "* Close: Closing price for the spesific timeline\n",
    "* Adj Close: Adjusted Closing Price for the spesific timeline. For more info, visit here: https://www.investopedia.com/terms/a/adjusted_closing_price.asp\n",
    "* Volume: Volume is the total value of the shares traded."
   ]
  },
  {
   "cell_type": "markdown",
   "id": "638072c3",
   "metadata": {},
   "source": [
    "* Create a line graph that includes the following: the `Date` column in the X axis and `Close` column in the Y axis. \n",
    "* After that, evaluate the graph with your own words."
   ]
  },
  {
   "cell_type": "code",
   "execution_count": 27,
   "id": "577ee4cc",
   "metadata": {
    "scrolled": true
   },
   "outputs": [
    {
     "data": {
      "text/plain": [
       "<AxesSubplot:xlabel='Date'>"
      ]
     },
     "execution_count": 27,
     "metadata": {},
     "output_type": "execute_result"
    },
    {
     "data": {
      "image/png": "[encoded data removed]",
      "text/plain": [
       "<Figure size 432x288 with 1 Axes>"
      ]
     },
     "metadata": {
      "needs_background": "light"
     },
     "output_type": "display_data"
    }
   ],
   "source": [
    "ibm.plot(x=\"Date\", y=\"Close\")"
   ]
  },
  {
   "cell_type": "markdown",
   "id": "45f659fe",
   "metadata": {},
   "source": [
    "* Let's set the index as `Date` column\n",
    "* So far, we see the IBM's stock prices from 1961. That doesn't mean anything since we are 2022. Let's make it reverse and see the up-to-date prices first. Use `sort_values` for that purpose."
   ]
  },
  {
   "cell_type": "code",
   "execution_count": 28,
   "id": "44d9e8a5",
   "metadata": {
    "scrolled": true
   },
   "outputs": [
    {
     "data": {
      "text/html": [
       "<div>\n",
       "<style scoped>\n",
       "    .dataframe tbody tr th:only-of-type {\n",
       "        vertical-align: middle;\n",
       "    }\n",
       "\n",
       "    .dataframe tbody tr th {\n",
       "        vertical-align: top;\n",
       "    }\n",
       "\n",
       "    .dataframe thead th {\n",
       "        text-align: right;\n",
       "    }\n",
       "</style>\n",
       "<table border=\"1\" class=\"dataframe\">\n",
       "  <thead>\n",
       "    <tr style=\"text-align: right;\">\n",
       "      <th></th>\n",
       "      <th>Open</th>\n",
       "      <th>High</th>\n",
       "      <th>Low</th>\n",
       "      <th>Close</th>\n",
       "      <th>Adj Close</th>\n",
       "      <th>Volume</th>\n",
       "    </tr>\n",
       "    <tr>\n",
       "      <th>Date</th>\n",
       "      <th></th>\n",
       "      <th></th>\n",
       "      <th></th>\n",
       "      <th></th>\n",
       "      <th></th>\n",
       "      <th></th>\n",
       "    </tr>\n",
       "  </thead>\n",
       "  <tbody>\n",
       "    <tr>\n",
       "      <th>2022-03-30</th>\n",
       "      <td>0.0001</td>\n",
       "      <td>0.0001</td>\n",
       "      <td>0.0001</td>\n",
       "      <td>0.0001</td>\n",
       "      <td>0.0001</td>\n",
       "      <td>0</td>\n",
       "    </tr>\n",
       "    <tr>\n",
       "      <th>2022-03-29</th>\n",
       "      <td>0.0001</td>\n",
       "      <td>0.0001</td>\n",
       "      <td>0.0001</td>\n",
       "      <td>0.0001</td>\n",
       "      <td>0.0001</td>\n",
       "      <td>0</td>\n",
       "    </tr>\n",
       "    <tr>\n",
       "      <th>2022-03-28</th>\n",
       "      <td>0.0001</td>\n",
       "      <td>0.0001</td>\n",
       "      <td>0.0001</td>\n",
       "      <td>0.0001</td>\n",
       "      <td>0.0001</td>\n",
       "      <td>0</td>\n",
       "    </tr>\n",
       "    <tr>\n",
       "      <th>2022-03-25</th>\n",
       "      <td>0.0001</td>\n",
       "      <td>0.0001</td>\n",
       "      <td>0.0001</td>\n",
       "      <td>0.0001</td>\n",
       "      <td>0.0001</td>\n",
       "      <td>0</td>\n",
       "    </tr>\n",
       "    <tr>\n",
       "      <th>2022-03-24</th>\n",
       "      <td>0.0001</td>\n",
       "      <td>0.0001</td>\n",
       "      <td>0.0001</td>\n",
       "      <td>0.0001</td>\n",
       "      <td>0.0001</td>\n",
       "      <td>0</td>\n",
       "    </tr>\n",
       "    <tr>\n",
       "      <th>...</th>\n",
       "      <td>...</td>\n",
       "      <td>...</td>\n",
       "      <td>...</td>\n",
       "      <td>...</td>\n",
       "      <td>...</td>\n",
       "      <td>...</td>\n",
       "    </tr>\n",
       "    <tr>\n",
       "      <th>2012-10-09</th>\n",
       "      <td>1400.0000</td>\n",
       "      <td>1400.0000</td>\n",
       "      <td>1400.0000</td>\n",
       "      <td>1400.0000</td>\n",
       "      <td>1400.0000</td>\n",
       "      <td>0</td>\n",
       "    </tr>\n",
       "    <tr>\n",
       "      <th>2012-10-08</th>\n",
       "      <td>1400.0000</td>\n",
       "      <td>1400.0000</td>\n",
       "      <td>1400.0000</td>\n",
       "      <td>1400.0000</td>\n",
       "      <td>1400.0000</td>\n",
       "      <td>0</td>\n",
       "    </tr>\n",
       "    <tr>\n",
       "      <th>2012-10-05</th>\n",
       "      <td>1400.0000</td>\n",
       "      <td>1400.0000</td>\n",
       "      <td>1400.0000</td>\n",
       "      <td>1400.0000</td>\n",
       "      <td>1400.0000</td>\n",
       "      <td>0</td>\n",
       "    </tr>\n",
       "    <tr>\n",
       "      <th>2012-10-04</th>\n",
       "      <td>1400.0000</td>\n",
       "      <td>1400.0000</td>\n",
       "      <td>1400.0000</td>\n",
       "      <td>1400.0000</td>\n",
       "      <td>1400.0000</td>\n",
       "      <td>0</td>\n",
       "    </tr>\n",
       "    <tr>\n",
       "      <th>2012-10-03</th>\n",
       "      <td>1050.0000</td>\n",
       "      <td>1400.0000</td>\n",
       "      <td>1050.0000</td>\n",
       "      <td>1400.0000</td>\n",
       "      <td>1400.0000</td>\n",
       "      <td>2</td>\n",
       "    </tr>\n",
       "  </tbody>\n",
       "</table>\n",
       "<p>2388 rows × 6 columns</p>\n",
       "</div>"
      ],
      "text/plain": [
       "                 Open       High        Low      Close  Adj Close  Volume\n",
       "Date                                                                     \n",
       "2022-03-30     0.0001     0.0001     0.0001     0.0001     0.0001       0\n",
       "2022-03-29     0.0001     0.0001     0.0001     0.0001     0.0001       0\n",
       "2022-03-28     0.0001     0.0001     0.0001     0.0001     0.0001       0\n",
       "2022-03-25     0.0001     0.0001     0.0001     0.0001     0.0001       0\n",
       "2022-03-24     0.0001     0.0001     0.0001     0.0001     0.0001       0\n",
       "...               ...        ...        ...        ...        ...     ...\n",
       "2012-10-09  1400.0000  1400.0000  1400.0000  1400.0000  1400.0000       0\n",
       "2012-10-08  1400.0000  1400.0000  1400.0000  1400.0000  1400.0000       0\n",
       "2012-10-05  1400.0000  1400.0000  1400.0000  1400.0000  1400.0000       0\n",
       "2012-10-04  1400.0000  1400.0000  1400.0000  1400.0000  1400.0000       0\n",
       "2012-10-03  1050.0000  1400.0000  1050.0000  1400.0000  1400.0000       2\n",
       "\n",
       "[2388 rows x 6 columns]"
      ]
     },
     "execution_count": 28,
     "metadata": {},
     "output_type": "execute_result"
    }
   ],
   "source": [
    "ibm = ibm.set_index(\"Date\")\n",
    "ibm.sort_values(by = \"Date\", ascending = False)"
   ]
  },
  {
   "cell_type": "markdown",
   "id": "06a98d63",
   "metadata": {},
   "source": [
    "* Return the dtypes of the each cols."
   ]
  },
  {
   "cell_type": "code",
   "execution_count": 29,
   "id": "78e2fb32",
   "metadata": {
    "scrolled": true
   },
   "outputs": [
    {
     "data": {
      "text/plain": [
       "Open         float64\n",
       "High         float64\n",
       "Low          float64\n",
       "Close        float64\n",
       "Adj Close    float64\n",
       "Volume         int64\n",
       "dtype: object"
      ]
     },
     "execution_count": 29,
     "metadata": {},
     "output_type": "execute_result"
    }
   ],
   "source": [
    "ibm.dtypes"
   ]
  },
  {
   "cell_type": "markdown",
   "id": "71362052",
   "metadata": {},
   "source": [
    "#### SPLITTING DATA INTO TRAIN & TEST SETS"
   ]
  },
  {
   "cell_type": "markdown",
   "id": "26683d6d",
   "metadata": {},
   "source": [
    "* Split data into train & test sets by sklearn's `train_test_split` <br>\n",
    "* Use `Close` column as target column."
   ]
  },
  {
   "cell_type": "code",
   "execution_count": 30,
   "id": "f2d29f54",
   "metadata": {},
   "outputs": [],
   "source": [
    "from sklearn.model_selection import train_test_split\n",
    "X_train, X_test, y_train, y_test = train_test_split(ibm.drop(columns='Close'), ibm[\"Close\"], test_size = 0.3,\n",
    "                                                   random_state = 123)"
   ]
  },
  {
   "cell_type": "markdown",
   "id": "a563afd7",
   "metadata": {},
   "source": [
    "#### Linear Regression Model\n",
    "* Apply `sklearn`s `LinearRegression` to the splitted data with `fit()` and `predict()`"
   ]
  },
  {
   "cell_type": "code",
   "execution_count": 31,
   "id": "4bed3526",
   "metadata": {
    "scrolled": true
   },
   "outputs": [],
   "source": [
    "from sklearn.linear_model import LinearRegression\n",
    "lr = LinearRegression()\n",
    "lr.fit(X_train, y_train)\n",
    "y_pred = lr.predict(X_test)\n"
   ]
  },
  {
   "cell_type": "markdown",
   "id": "26e1e34f",
   "metadata": {},
   "source": [
    "#### RMSE(Root Mean Squarred Error) or Possibly Others\n",
    "* Evaluate Linear Regression Model with RMSE. \n",
    "* **Note:** You can use `sklearn.metrics` `mean_squared_error` and rename it MSE while importing it. After that, you can root MSE score to achieve RMSE."
   ]
  },
  {
   "cell_type": "code",
   "execution_count": 33,
   "id": "4ba2e490",
   "metadata": {},
   "outputs": [
    {
     "name": "stdout",
     "output_type": "stream",
     "text": [
      "R.M.S.E for  Linear Regression Base Model is:  1.3763872051628368e-07\n"
     ]
    }
   ],
   "source": [
    "from sklearn.metrics import mean_squared_error as MSE\n",
    "RMSE = MSE(y_pred, y_test)**(1/2)\n",
    "print(\"R.M.S.E for  Linear Regression Base Model is: \", RMSE)"
   ]
  }
 ],
 "metadata": {
  "kernelspec": {
   "display_name": "Python 3",
   "language": "python",
   "name": "python3"
  },
  "language_info": {
   "codemirror_mode": {
    "name": "ipython",
    "version": 3
   },
   "file_extension": ".py",
   "mimetype": "text/x-python",
   "name": "python",
   "nbconvert_exporter": "python",
   "pygments_lexer": "ipython3",
   "version": "3.9.7"
  }
 },
 "nbformat": 4,
 "nbformat_minor": 5
}
